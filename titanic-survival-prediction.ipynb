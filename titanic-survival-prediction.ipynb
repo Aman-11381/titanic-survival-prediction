{
 "cells": [
  {
   "cell_type": "code",
   "execution_count": 1,
   "id": "205f00f8",
   "metadata": {
    "_cell_guid": "b1076dfc-b9ad-4769-8c92-a6c4dae69d19",
    "_uuid": "8f2839f25d086af736a60e9eeb907d3b93b6e0e5",
    "execution": {
     "iopub.execute_input": "2022-03-02T18:51:07.379399Z",
     "iopub.status.busy": "2022-03-02T18:51:07.378455Z",
     "iopub.status.idle": "2022-03-02T18:51:07.384808Z",
     "shell.execute_reply": "2022-03-02T18:51:07.385495Z",
     "shell.execute_reply.started": "2022-03-02T18:48:36.385780Z"
    },
    "papermill": {
     "duration": 0.032936,
     "end_time": "2022-03-02T18:51:07.385840",
     "exception": false,
     "start_time": "2022-03-02T18:51:07.352904",
     "status": "completed"
    },
    "tags": []
   },
   "outputs": [
    {
     "name": "stdout",
     "output_type": "stream",
     "text": [
      "/kaggle/input/titanic/train.csv\n",
      "/kaggle/input/titanic/test.csv\n",
      "/kaggle/input/titanic/gender_submission.csv\n"
     ]
    }
   ],
   "source": [
    "# Input data files are available in the read-only \"../input/\" directory\n",
    "# For example, running this (by clicking run or pressing Shift+Enter) will list all files under the input directory\n",
    "\n",
    "import os\n",
    "for dirname, _, filenames in os.walk('/kaggle/input'):\n",
    "    for filename in filenames:\n",
    "        print(os.path.join(dirname, filename))\n",
    "\n",
    "# You can write up to 20GB to the current directory (/kaggle/working/) that gets preserved as output when you create a version using \"Save & Run All\" \n",
    "# You can also write temporary files to /kaggle/temp/, but they won't be saved outside of the current session"
   ]
  },
  {
   "cell_type": "code",
   "execution_count": 2,
   "id": "ce3f2dc8",
   "metadata": {
    "execution": {
     "iopub.execute_input": "2022-03-02T18:51:07.424868Z",
     "iopub.status.busy": "2022-03-02T18:51:07.423797Z",
     "iopub.status.idle": "2022-03-02T18:51:08.797131Z",
     "shell.execute_reply": "2022-03-02T18:51:08.797580Z",
     "shell.execute_reply.started": "2022-03-02T18:48:36.399940Z"
    },
    "papermill": {
     "duration": 1.393432,
     "end_time": "2022-03-02T18:51:08.797769",
     "exception": false,
     "start_time": "2022-03-02T18:51:07.404337",
     "status": "completed"
    },
    "tags": []
   },
   "outputs": [],
   "source": [
    "import pandas as pd\n",
    "import numpy as np\n",
    "from sklearn.ensemble import RandomForestClassifier\n",
    "from sklearn.model_selection import cross_val_score, RandomizedSearchCV"
   ]
  },
  {
   "cell_type": "code",
   "execution_count": 3,
   "id": "5f344f66",
   "metadata": {
    "execution": {
     "iopub.execute_input": "2022-03-02T18:51:08.837313Z",
     "iopub.status.busy": "2022-03-02T18:51:08.836328Z",
     "iopub.status.idle": "2022-03-02T18:51:08.862148Z",
     "shell.execute_reply": "2022-03-02T18:51:08.861497Z",
     "shell.execute_reply.started": "2022-03-02T18:48:36.411461Z"
    },
    "papermill": {
     "duration": 0.047244,
     "end_time": "2022-03-02T18:51:08.862324",
     "exception": false,
     "start_time": "2022-03-02T18:51:08.815080",
     "status": "completed"
    },
    "tags": []
   },
   "outputs": [],
   "source": [
    "train_df = pd.read_csv('/kaggle/input/titanic/train.csv')\n",
    "test_df = pd.read_csv('/kaggle/input/titanic/test.csv')"
   ]
  },
  {
   "cell_type": "markdown",
   "id": "8006b413",
   "metadata": {
    "papermill": {
     "duration": 0.016417,
     "end_time": "2022-03-02T18:51:08.896723",
     "exception": false,
     "start_time": "2022-03-02T18:51:08.880306",
     "status": "completed"
    },
    "tags": []
   },
   "source": [
    "## Data preprocessing"
   ]
  },
  {
   "cell_type": "code",
   "execution_count": 4,
   "id": "3b416ed6",
   "metadata": {
    "execution": {
     "iopub.execute_input": "2022-03-02T18:51:08.939518Z",
     "iopub.status.busy": "2022-03-02T18:51:08.938549Z",
     "iopub.status.idle": "2022-03-02T18:51:08.961519Z",
     "shell.execute_reply": "2022-03-02T18:51:08.960597Z",
     "shell.execute_reply.started": "2022-03-02T18:48:36.435857Z"
    },
    "papermill": {
     "duration": 0.048279,
     "end_time": "2022-03-02T18:51:08.961711",
     "exception": false,
     "start_time": "2022-03-02T18:51:08.913432",
     "status": "completed"
    },
    "tags": []
   },
   "outputs": [
    {
     "name": "stdout",
     "output_type": "stream",
     "text": [
      "<class 'pandas.core.frame.DataFrame'>\n",
      "RangeIndex: 891 entries, 0 to 890\n",
      "Data columns (total 12 columns):\n",
      " #   Column       Non-Null Count  Dtype  \n",
      "---  ------       --------------  -----  \n",
      " 0   PassengerId  891 non-null    int64  \n",
      " 1   Survived     891 non-null    int64  \n",
      " 2   Pclass       891 non-null    int64  \n",
      " 3   Name         891 non-null    object \n",
      " 4   Sex          891 non-null    object \n",
      " 5   Age          714 non-null    float64\n",
      " 6   SibSp        891 non-null    int64  \n",
      " 7   Parch        891 non-null    int64  \n",
      " 8   Ticket       891 non-null    object \n",
      " 9   Fare         891 non-null    float64\n",
      " 10  Cabin        204 non-null    object \n",
      " 11  Embarked     889 non-null    object \n",
      "dtypes: float64(2), int64(5), object(5)\n",
      "memory usage: 83.7+ KB\n"
     ]
    }
   ],
   "source": [
    "train_df.info()"
   ]
  },
  {
   "cell_type": "code",
   "execution_count": 5,
   "id": "2da10677",
   "metadata": {
    "execution": {
     "iopub.execute_input": "2022-03-02T18:51:09.002503Z",
     "iopub.status.busy": "2022-03-02T18:51:09.001561Z",
     "iopub.status.idle": "2022-03-02T18:51:09.013885Z",
     "shell.execute_reply": "2022-03-02T18:51:09.014384Z",
     "shell.execute_reply.started": "2022-03-02T18:48:36.454326Z"
    },
    "papermill": {
     "duration": 0.033637,
     "end_time": "2022-03-02T18:51:09.014556",
     "exception": false,
     "start_time": "2022-03-02T18:51:08.980919",
     "status": "completed"
    },
    "tags": []
   },
   "outputs": [
    {
     "name": "stdout",
     "output_type": "stream",
     "text": [
      "<class 'pandas.core.frame.DataFrame'>\n",
      "RangeIndex: 418 entries, 0 to 417\n",
      "Data columns (total 11 columns):\n",
      " #   Column       Non-Null Count  Dtype  \n",
      "---  ------       --------------  -----  \n",
      " 0   PassengerId  418 non-null    int64  \n",
      " 1   Pclass       418 non-null    int64  \n",
      " 2   Name         418 non-null    object \n",
      " 3   Sex          418 non-null    object \n",
      " 4   Age          332 non-null    float64\n",
      " 5   SibSp        418 non-null    int64  \n",
      " 6   Parch        418 non-null    int64  \n",
      " 7   Ticket       418 non-null    object \n",
      " 8   Fare         417 non-null    float64\n",
      " 9   Cabin        91 non-null     object \n",
      " 10  Embarked     418 non-null    object \n",
      "dtypes: float64(2), int64(4), object(5)\n",
      "memory usage: 36.0+ KB\n"
     ]
    }
   ],
   "source": [
    "test_df.info()"
   ]
  },
  {
   "cell_type": "code",
   "execution_count": 6,
   "id": "6c5f7808",
   "metadata": {
    "execution": {
     "iopub.execute_input": "2022-03-02T18:51:09.054382Z",
     "iopub.status.busy": "2022-03-02T18:51:09.053451Z",
     "iopub.status.idle": "2022-03-02T18:51:09.061006Z",
     "shell.execute_reply": "2022-03-02T18:51:09.061530Z",
     "shell.execute_reply.started": "2022-03-02T18:48:36.474465Z"
    },
    "papermill": {
     "duration": 0.029572,
     "end_time": "2022-03-02T18:51:09.061704",
     "exception": false,
     "start_time": "2022-03-02T18:51:09.032132",
     "status": "completed"
    },
    "tags": []
   },
   "outputs": [
    {
     "data": {
      "text/plain": [
       "array(['S', 'C', 'Q', nan], dtype=object)"
      ]
     },
     "execution_count": 6,
     "metadata": {},
     "output_type": "execute_result"
    }
   ],
   "source": [
    "train_df['Embarked'].unique()"
   ]
  },
  {
   "cell_type": "code",
   "execution_count": 7,
   "id": "9eeb7e94",
   "metadata": {
    "execution": {
     "iopub.execute_input": "2022-03-02T18:51:09.102220Z",
     "iopub.status.busy": "2022-03-02T18:51:09.101600Z",
     "iopub.status.idle": "2022-03-02T18:51:09.104123Z",
     "shell.execute_reply": "2022-03-02T18:51:09.104713Z",
     "shell.execute_reply.started": "2022-03-02T18:48:36.489072Z"
    },
    "papermill": {
     "duration": 0.025591,
     "end_time": "2022-03-02T18:51:09.104879",
     "exception": false,
     "start_time": "2022-03-02T18:51:09.079288",
     "status": "completed"
    },
    "tags": []
   },
   "outputs": [],
   "source": [
    "train_df['Embarked'].fillna(train_df['Embarked'].mode()[0], inplace=True)\n",
    "train_df['Age'].fillna(train_df['Age'].mean(), inplace=True)"
   ]
  },
  {
   "cell_type": "code",
   "execution_count": 8,
   "id": "b529d189",
   "metadata": {
    "execution": {
     "iopub.execute_input": "2022-03-02T18:51:09.143347Z",
     "iopub.status.busy": "2022-03-02T18:51:09.142734Z",
     "iopub.status.idle": "2022-03-02T18:51:09.147919Z",
     "shell.execute_reply": "2022-03-02T18:51:09.148423Z",
     "shell.execute_reply.started": "2022-03-02T18:48:36.504564Z"
    },
    "papermill": {
     "duration": 0.026072,
     "end_time": "2022-03-02T18:51:09.148599",
     "exception": false,
     "start_time": "2022-03-02T18:51:09.122527",
     "status": "completed"
    },
    "tags": []
   },
   "outputs": [],
   "source": [
    "test_df['Age'].fillna(test_df['Age'].mean(), inplace=True)\n",
    "test_df['Fare'].fillna(test_df['Fare'].mean(), inplace=True)"
   ]
  },
  {
   "cell_type": "code",
   "execution_count": 9,
   "id": "b4d096a4",
   "metadata": {
    "execution": {
     "iopub.execute_input": "2022-03-02T18:51:09.187722Z",
     "iopub.status.busy": "2022-03-02T18:51:09.187144Z",
     "iopub.status.idle": "2022-03-02T18:51:09.194847Z",
     "shell.execute_reply": "2022-03-02T18:51:09.195349Z",
     "shell.execute_reply.started": "2022-03-02T18:48:36.518930Z"
    },
    "papermill": {
     "duration": 0.028485,
     "end_time": "2022-03-02T18:51:09.195523",
     "exception": false,
     "start_time": "2022-03-02T18:51:09.167038",
     "status": "completed"
    },
    "tags": []
   },
   "outputs": [],
   "source": [
    "train_df = train_df.drop(['Cabin','Name','Ticket'], axis=1)\n",
    "test_df = test_df.drop(['Cabin','Name','Ticket'], axis=1)"
   ]
  },
  {
   "cell_type": "code",
   "execution_count": 10,
   "id": "06427630",
   "metadata": {
    "execution": {
     "iopub.execute_input": "2022-03-02T18:51:09.239448Z",
     "iopub.status.busy": "2022-03-02T18:51:09.238823Z",
     "iopub.status.idle": "2022-03-02T18:51:09.247461Z",
     "shell.execute_reply": "2022-03-02T18:51:09.247886Z",
     "shell.execute_reply.started": "2022-03-02T18:48:36.532333Z"
    },
    "papermill": {
     "duration": 0.032422,
     "end_time": "2022-03-02T18:51:09.248076",
     "exception": false,
     "start_time": "2022-03-02T18:51:09.215654",
     "status": "completed"
    },
    "tags": []
   },
   "outputs": [
    {
     "name": "stdout",
     "output_type": "stream",
     "text": [
      "<class 'pandas.core.frame.DataFrame'>\n",
      "RangeIndex: 891 entries, 0 to 890\n",
      "Data columns (total 9 columns):\n",
      " #   Column       Non-Null Count  Dtype  \n",
      "---  ------       --------------  -----  \n",
      " 0   PassengerId  891 non-null    int64  \n",
      " 1   Survived     891 non-null    int64  \n",
      " 2   Pclass       891 non-null    int64  \n",
      " 3   Sex          891 non-null    object \n",
      " 4   Age          891 non-null    float64\n",
      " 5   SibSp        891 non-null    int64  \n",
      " 6   Parch        891 non-null    int64  \n",
      " 7   Fare         891 non-null    float64\n",
      " 8   Embarked     891 non-null    object \n",
      "dtypes: float64(2), int64(5), object(2)\n",
      "memory usage: 62.8+ KB\n"
     ]
    }
   ],
   "source": [
    "train_df.info()"
   ]
  },
  {
   "cell_type": "code",
   "execution_count": 11,
   "id": "fe3530dc",
   "metadata": {
    "execution": {
     "iopub.execute_input": "2022-03-02T18:51:09.290141Z",
     "iopub.status.busy": "2022-03-02T18:51:09.289159Z",
     "iopub.status.idle": "2022-03-02T18:51:09.292049Z",
     "shell.execute_reply": "2022-03-02T18:51:09.291461Z",
     "shell.execute_reply.started": "2022-03-02T18:48:36.557150Z"
    },
    "papermill": {
     "duration": 0.025954,
     "end_time": "2022-03-02T18:51:09.292190",
     "exception": false,
     "start_time": "2022-03-02T18:51:09.266236",
     "status": "completed"
    },
    "tags": []
   },
   "outputs": [],
   "source": [
    "x_train = train_df.iloc[:,2:]\n",
    "y_train = train_df.iloc[:,1]"
   ]
  },
  {
   "cell_type": "code",
   "execution_count": 12,
   "id": "dcbb0979",
   "metadata": {
    "execution": {
     "iopub.execute_input": "2022-03-02T18:51:09.335992Z",
     "iopub.status.busy": "2022-03-02T18:51:09.335377Z",
     "iopub.status.idle": "2022-03-02T18:51:09.352801Z",
     "shell.execute_reply": "2022-03-02T18:51:09.353509Z",
     "shell.execute_reply.started": "2022-03-02T18:48:36.563798Z"
    },
    "papermill": {
     "duration": 0.04353,
     "end_time": "2022-03-02T18:51:09.353739",
     "exception": false,
     "start_time": "2022-03-02T18:51:09.310209",
     "status": "completed"
    },
    "tags": []
   },
   "outputs": [
    {
     "name": "stdout",
     "output_type": "stream",
     "text": [
      "<class 'pandas.core.frame.DataFrame'>\n",
      "RangeIndex: 891 entries, 0 to 890\n",
      "Data columns (total 10 columns):\n",
      " #   Column      Non-Null Count  Dtype  \n",
      "---  ------      --------------  -----  \n",
      " 0   Pclass      891 non-null    int64  \n",
      " 1   Age         891 non-null    float64\n",
      " 2   SibSp       891 non-null    int64  \n",
      " 3   Parch       891 non-null    int64  \n",
      " 4   Fare        891 non-null    float64\n",
      " 5   Sex_female  891 non-null    uint8  \n",
      " 6   Sex_male    891 non-null    uint8  \n",
      " 7   Embarked_C  891 non-null    uint8  \n",
      " 8   Embarked_Q  891 non-null    uint8  \n",
      " 9   Embarked_S  891 non-null    uint8  \n",
      "dtypes: float64(2), int64(3), uint8(5)\n",
      "memory usage: 39.3 KB\n"
     ]
    }
   ],
   "source": [
    "x_train = pd.get_dummies(x_train)\n",
    "test_df = pd.get_dummies(test_df)\n",
    "x_train.info()"
   ]
  },
  {
   "cell_type": "code",
   "execution_count": 13,
   "id": "6bba14b2",
   "metadata": {
    "execution": {
     "iopub.execute_input": "2022-03-02T18:51:09.394131Z",
     "iopub.status.busy": "2022-03-02T18:51:09.393513Z",
     "iopub.status.idle": "2022-03-02T18:51:09.396425Z",
     "shell.execute_reply": "2022-03-02T18:51:09.396849Z",
     "shell.execute_reply.started": "2022-03-02T18:48:36.596312Z"
    },
    "papermill": {
     "duration": 0.024011,
     "end_time": "2022-03-02T18:51:09.397027",
     "exception": false,
     "start_time": "2022-03-02T18:51:09.373016",
     "status": "completed"
    },
    "tags": []
   },
   "outputs": [],
   "source": [
    "rf = RandomForestClassifier()"
   ]
  },
  {
   "cell_type": "code",
   "execution_count": 14,
   "id": "c67ab8cc",
   "metadata": {
    "execution": {
     "iopub.execute_input": "2022-03-02T18:51:09.436788Z",
     "iopub.status.busy": "2022-03-02T18:51:09.436213Z",
     "iopub.status.idle": "2022-03-02T18:51:10.362399Z",
     "shell.execute_reply": "2022-03-02T18:51:10.362850Z",
     "shell.execute_reply.started": "2022-03-02T18:48:36.603419Z"
    },
    "papermill": {
     "duration": 0.947662,
     "end_time": "2022-03-02T18:51:10.363051",
     "exception": false,
     "start_time": "2022-03-02T18:51:09.415389",
     "status": "completed"
    },
    "tags": []
   },
   "outputs": [
    {
     "name": "stdout",
     "output_type": "stream",
     "text": [
      "0.8114870378507313\n"
     ]
    }
   ],
   "source": [
    "score = cross_val_score(rf,x_train,y_train,cv=5,scoring='accuracy')\n",
    "print(score.mean())"
   ]
  },
  {
   "cell_type": "code",
   "execution_count": 15,
   "id": "d10a14ba",
   "metadata": {
    "execution": {
     "iopub.execute_input": "2022-03-02T18:51:10.404236Z",
     "iopub.status.busy": "2022-03-02T18:51:10.403611Z",
     "iopub.status.idle": "2022-03-02T18:51:10.406462Z",
     "shell.execute_reply": "2022-03-02T18:51:10.406901Z",
     "shell.execute_reply.started": "2022-03-02T18:48:37.778486Z"
    },
    "papermill": {
     "duration": 0.024873,
     "end_time": "2022-03-02T18:51:10.407088",
     "exception": false,
     "start_time": "2022-03-02T18:51:10.382215",
     "status": "completed"
    },
    "tags": []
   },
   "outputs": [],
   "source": [
    "# n_estimators = [int(x) for x in np.linspace(start = 200, stop = 2000, num = 10)]\n",
    "# max_features = ['auto', 'sqrt']\n",
    "# max_depth = [int(x) for x in np.linspace(10, 110, num = 11)]\n",
    "# max_depth.append(None)\n",
    "# bootstrap = [True, False]\n",
    "\n",
    "# random_grid = {'n_estimators': n_estimators,\n",
    "#                'max_features': max_features,\n",
    "#                'max_depth': max_depth,\n",
    "#                'bootstrap': bootstrap}\n",
    "\n",
    "# print(random_grid)"
   ]
  },
  {
   "cell_type": "code",
   "execution_count": 16,
   "id": "d5366dc9",
   "metadata": {
    "execution": {
     "iopub.execute_input": "2022-03-02T18:51:10.447553Z",
     "iopub.status.busy": "2022-03-02T18:51:10.446987Z",
     "iopub.status.idle": "2022-03-02T18:51:10.449643Z",
     "shell.execute_reply": "2022-03-02T18:51:10.450090Z",
     "shell.execute_reply.started": "2022-03-02T18:48:37.785012Z"
    },
    "papermill": {
     "duration": 0.024545,
     "end_time": "2022-03-02T18:51:10.450246",
     "exception": false,
     "start_time": "2022-03-02T18:51:10.425701",
     "status": "completed"
    },
    "tags": []
   },
   "outputs": [],
   "source": [
    "# rf_random = RandomizedSearchCV(estimator=rf, param_distributions=random_grid, n_iter=100, cv=3, verbose=2, random_state=42, n_jobs=-1)\n",
    "# rf_random.fit(x_train, y_train)"
   ]
  },
  {
   "cell_type": "code",
   "execution_count": 17,
   "id": "6187f362",
   "metadata": {
    "execution": {
     "iopub.execute_input": "2022-03-02T18:51:10.490926Z",
     "iopub.status.busy": "2022-03-02T18:51:10.490315Z",
     "iopub.status.idle": "2022-03-02T18:51:10.493223Z",
     "shell.execute_reply": "2022-03-02T18:51:10.493650Z",
     "shell.execute_reply.started": "2022-03-02T18:48:37.802193Z"
    },
    "papermill": {
     "duration": 0.024741,
     "end_time": "2022-03-02T18:51:10.493810",
     "exception": false,
     "start_time": "2022-03-02T18:51:10.469069",
     "status": "completed"
    },
    "tags": []
   },
   "outputs": [],
   "source": [
    "# rf_random.best_params_"
   ]
  },
  {
   "cell_type": "code",
   "execution_count": 18,
   "id": "c5f2aa71",
   "metadata": {
    "execution": {
     "iopub.execute_input": "2022-03-02T18:51:10.534617Z",
     "iopub.status.busy": "2022-03-02T18:51:10.534053Z",
     "iopub.status.idle": "2022-03-02T18:51:10.537429Z",
     "shell.execute_reply": "2022-03-02T18:51:10.537843Z",
     "shell.execute_reply.started": "2022-03-02T18:48:37.811597Z"
    },
    "papermill": {
     "duration": 0.025698,
     "end_time": "2022-03-02T18:51:10.538023",
     "exception": false,
     "start_time": "2022-03-02T18:51:10.512325",
     "status": "completed"
    },
    "tags": []
   },
   "outputs": [],
   "source": [
    "rf_cv = RandomForestClassifier(n_estimators=200, max_features='auto', max_depth=10, bootstrap=True)"
   ]
  },
  {
   "cell_type": "code",
   "execution_count": 19,
   "id": "00f77e22",
   "metadata": {
    "execution": {
     "iopub.execute_input": "2022-03-02T18:51:10.580577Z",
     "iopub.status.busy": "2022-03-02T18:51:10.579839Z",
     "iopub.status.idle": "2022-03-02T18:51:11.588267Z",
     "shell.execute_reply": "2022-03-02T18:51:11.587395Z",
     "shell.execute_reply.started": "2022-03-02T18:48:37.823370Z"
    },
    "papermill": {
     "duration": 1.031911,
     "end_time": "2022-03-02T18:51:11.588449",
     "exception": false,
     "start_time": "2022-03-02T18:51:10.556538",
     "status": "completed"
    },
    "tags": []
   },
   "outputs": [
    {
     "name": "stdout",
     "output_type": "stream",
     "text": [
      "0.8215488215488215\n"
     ]
    }
   ],
   "source": [
    "score_cv = cross_val_score(rf_cv,x_train,y_train,cv=3,scoring='accuracy')\n",
    "print(score_cv.mean())"
   ]
  },
  {
   "cell_type": "code",
   "execution_count": 20,
   "id": "305c810e",
   "metadata": {
    "execution": {
     "iopub.execute_input": "2022-03-02T18:51:11.630815Z",
     "iopub.status.busy": "2022-03-02T18:51:11.630234Z",
     "iopub.status.idle": "2022-03-02T18:51:12.008193Z",
     "shell.execute_reply": "2022-03-02T18:51:12.007678Z",
     "shell.execute_reply.started": "2022-03-02T18:48:39.166221Z"
    },
    "papermill": {
     "duration": 0.399286,
     "end_time": "2022-03-02T18:51:12.008337",
     "exception": false,
     "start_time": "2022-03-02T18:51:11.609051",
     "status": "completed"
    },
    "tags": []
   },
   "outputs": [],
   "source": [
    "rf_cv.fit(x_train, y_train)\n",
    "pred = rf_cv.predict(test_df.iloc[:,1:])"
   ]
  },
  {
   "cell_type": "code",
   "execution_count": 21,
   "id": "2f75ba48",
   "metadata": {
    "execution": {
     "iopub.execute_input": "2022-03-02T18:51:12.052111Z",
     "iopub.status.busy": "2022-03-02T18:51:12.048870Z",
     "iopub.status.idle": "2022-03-02T18:51:12.059326Z",
     "shell.execute_reply": "2022-03-02T18:51:12.060025Z",
     "shell.execute_reply.started": "2022-03-02T18:48:39.644028Z"
    },
    "papermill": {
     "duration": 0.033092,
     "end_time": "2022-03-02T18:51:12.060272",
     "exception": false,
     "start_time": "2022-03-02T18:51:12.027180",
     "status": "completed"
    },
    "tags": []
   },
   "outputs": [
    {
     "name": "stdout",
     "output_type": "stream",
     "text": [
      "Your submission was successfully saved!\n"
     ]
    }
   ],
   "source": [
    "output = pd.DataFrame({'PassengerId': test_df.PassengerId, 'Survived': pred})\n",
    "output.to_csv('submission.csv', index=False)\n",
    "print(\"Your submission was successfully saved!\")"
   ]
  }
 ],
 "metadata": {
  "kernelspec": {
   "display_name": "Python 3",
   "language": "python",
   "name": "python3"
  },
  "language_info": {
   "codemirror_mode": {
    "name": "ipython",
    "version": 3
   },
   "file_extension": ".py",
   "mimetype": "text/x-python",
   "name": "python",
   "nbconvert_exporter": "python",
   "pygments_lexer": "ipython3",
   "version": "3.7.12"
  },
  "papermill": {
   "default_parameters": {},
   "duration": 14.588876,
   "end_time": "2022-03-02T18:51:12.791681",
   "environment_variables": {},
   "exception": null,
   "input_path": "__notebook__.ipynb",
   "output_path": "__notebook__.ipynb",
   "parameters": {},
   "start_time": "2022-03-02T18:50:58.202805",
   "version": "2.3.3"
  }
 },
 "nbformat": 4,
 "nbformat_minor": 5
}
