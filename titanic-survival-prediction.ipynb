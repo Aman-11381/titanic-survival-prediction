{
 "cells": [
  {
   "cell_type": "code",
   "execution_count": 1,
   "id": "fbbf061e",
   "metadata": {
    "_cell_guid": "b1076dfc-b9ad-4769-8c92-a6c4dae69d19",
    "_uuid": "8f2839f25d086af736a60e9eeb907d3b93b6e0e5",
    "execution": {
     "iopub.execute_input": "2022-03-02T18:57:36.165454Z",
     "iopub.status.busy": "2022-03-02T18:57:36.164261Z",
     "iopub.status.idle": "2022-03-02T18:57:36.178891Z",
     "shell.execute_reply": "2022-03-02T18:57:36.178106Z",
     "shell.execute_reply.started": "2022-03-02T18:48:36.385780Z"
    },
    "papermill": {
     "duration": 0.045261,
     "end_time": "2022-03-02T18:57:36.179074",
     "exception": false,
     "start_time": "2022-03-02T18:57:36.133813",
     "status": "completed"
    },
    "tags": []
   },
   "outputs": [
    {
     "name": "stdout",
     "output_type": "stream",
     "text": [
      "/kaggle/input/titanic/train.csv\n",
      "/kaggle/input/titanic/test.csv\n",
      "/kaggle/input/titanic/gender_submission.csv\n"
     ]
    }
   ],
   "source": [
    "# Input data files are available in the read-only \"../input/\" directory\n",
    "# For example, running this (by clicking run or pressing Shift+Enter) will list all files under the input directory\n",
    "\n",
    "import os\n",
    "for dirname, _, filenames in os.walk('/kaggle/input'):\n",
    "    for filename in filenames:\n",
    "        print(os.path.join(dirname, filename))\n",
    "\n",
    "# You can write up to 20GB to the current directory (/kaggle/working/) that gets preserved as output when you create a version using \"Save & Run All\" \n",
    "# You can also write temporary files to /kaggle/temp/, but they won't be saved outside of the current session"
   ]
  },
  {
   "cell_type": "markdown",
   "id": "42f6e05d",
   "metadata": {
    "papermill": {
     "duration": 0.024655,
     "end_time": "2022-03-02T18:57:36.233535",
     "exception": false,
     "start_time": "2022-03-02T18:57:36.208880",
     "status": "completed"
    },
    "tags": []
   },
   "source": [
    "## Importing the Libraries"
   ]
  },
  {
   "cell_type": "code",
   "execution_count": 2,
   "id": "e633957f",
   "metadata": {
    "execution": {
     "iopub.execute_input": "2022-03-02T18:57:36.287961Z",
     "iopub.status.busy": "2022-03-02T18:57:36.286983Z",
     "iopub.status.idle": "2022-03-02T18:57:37.688724Z",
     "shell.execute_reply": "2022-03-02T18:57:37.688138Z",
     "shell.execute_reply.started": "2022-03-02T18:48:36.399940Z"
    },
    "papermill": {
     "duration": 1.430002,
     "end_time": "2022-03-02T18:57:37.688900",
     "exception": false,
     "start_time": "2022-03-02T18:57:36.258898",
     "status": "completed"
    },
    "tags": []
   },
   "outputs": [],
   "source": [
    "import pandas as pd\n",
    "import numpy as np\n",
    "from sklearn.ensemble import RandomForestClassifier\n",
    "from sklearn.model_selection import cross_val_score, RandomizedSearchCV"
   ]
  },
  {
   "cell_type": "markdown",
   "id": "062d00e4",
   "metadata": {
    "papermill": {
     "duration": 0.024858,
     "end_time": "2022-03-02T18:57:37.741683",
     "exception": false,
     "start_time": "2022-03-02T18:57:37.716825",
     "status": "completed"
    },
    "tags": []
   },
   "source": [
    "## Importing the Data"
   ]
  },
  {
   "cell_type": "code",
   "execution_count": 3,
   "id": "9d93d64d",
   "metadata": {
    "execution": {
     "iopub.execute_input": "2022-03-02T18:57:37.803607Z",
     "iopub.status.busy": "2022-03-02T18:57:37.802773Z",
     "iopub.status.idle": "2022-03-02T18:57:37.828950Z",
     "shell.execute_reply": "2022-03-02T18:57:37.829463Z",
     "shell.execute_reply.started": "2022-03-02T18:48:36.411461Z"
    },
    "papermill": {
     "duration": 0.062151,
     "end_time": "2022-03-02T18:57:37.829646",
     "exception": false,
     "start_time": "2022-03-02T18:57:37.767495",
     "status": "completed"
    },
    "tags": []
   },
   "outputs": [],
   "source": [
    "train_df = pd.read_csv('/kaggle/input/titanic/train.csv')\n",
    "test_df = pd.read_csv('/kaggle/input/titanic/test.csv')"
   ]
  },
  {
   "cell_type": "markdown",
   "id": "9ec1569c",
   "metadata": {
    "papermill": {
     "duration": 0.02468,
     "end_time": "2022-03-02T18:57:37.880563",
     "exception": false,
     "start_time": "2022-03-02T18:57:37.855883",
     "status": "completed"
    },
    "tags": []
   },
   "source": [
    "## Data Preprocessing"
   ]
  },
  {
   "cell_type": "code",
   "execution_count": 4,
   "id": "51f6086a",
   "metadata": {
    "execution": {
     "iopub.execute_input": "2022-03-02T18:57:37.934889Z",
     "iopub.status.busy": "2022-03-02T18:57:37.933926Z",
     "iopub.status.idle": "2022-03-02T18:57:37.961153Z",
     "shell.execute_reply": "2022-03-02T18:57:37.960453Z",
     "shell.execute_reply.started": "2022-03-02T18:48:36.435857Z"
    },
    "papermill": {
     "duration": 0.055697,
     "end_time": "2022-03-02T18:57:37.961304",
     "exception": false,
     "start_time": "2022-03-02T18:57:37.905607",
     "status": "completed"
    },
    "tags": []
   },
   "outputs": [
    {
     "name": "stdout",
     "output_type": "stream",
     "text": [
      "<class 'pandas.core.frame.DataFrame'>\n",
      "RangeIndex: 891 entries, 0 to 890\n",
      "Data columns (total 12 columns):\n",
      " #   Column       Non-Null Count  Dtype  \n",
      "---  ------       --------------  -----  \n",
      " 0   PassengerId  891 non-null    int64  \n",
      " 1   Survived     891 non-null    int64  \n",
      " 2   Pclass       891 non-null    int64  \n",
      " 3   Name         891 non-null    object \n",
      " 4   Sex          891 non-null    object \n",
      " 5   Age          714 non-null    float64\n",
      " 6   SibSp        891 non-null    int64  \n",
      " 7   Parch        891 non-null    int64  \n",
      " 8   Ticket       891 non-null    object \n",
      " 9   Fare         891 non-null    float64\n",
      " 10  Cabin        204 non-null    object \n",
      " 11  Embarked     889 non-null    object \n",
      "dtypes: float64(2), int64(5), object(5)\n",
      "memory usage: 83.7+ KB\n"
     ]
    }
   ],
   "source": [
    "train_df.info()"
   ]
  },
  {
   "cell_type": "code",
   "execution_count": 5,
   "id": "4c45d6ca",
   "metadata": {
    "execution": {
     "iopub.execute_input": "2022-03-02T18:57:38.025491Z",
     "iopub.status.busy": "2022-03-02T18:57:38.024785Z",
     "iopub.status.idle": "2022-03-02T18:57:38.027720Z",
     "shell.execute_reply": "2022-03-02T18:57:38.028257Z",
     "shell.execute_reply.started": "2022-03-02T18:48:36.454326Z"
    },
    "papermill": {
     "duration": 0.041638,
     "end_time": "2022-03-02T18:57:38.028423",
     "exception": false,
     "start_time": "2022-03-02T18:57:37.986785",
     "status": "completed"
    },
    "tags": []
   },
   "outputs": [
    {
     "name": "stdout",
     "output_type": "stream",
     "text": [
      "<class 'pandas.core.frame.DataFrame'>\n",
      "RangeIndex: 418 entries, 0 to 417\n",
      "Data columns (total 11 columns):\n",
      " #   Column       Non-Null Count  Dtype  \n",
      "---  ------       --------------  -----  \n",
      " 0   PassengerId  418 non-null    int64  \n",
      " 1   Pclass       418 non-null    int64  \n",
      " 2   Name         418 non-null    object \n",
      " 3   Sex          418 non-null    object \n",
      " 4   Age          332 non-null    float64\n",
      " 5   SibSp        418 non-null    int64  \n",
      " 6   Parch        418 non-null    int64  \n",
      " 7   Ticket       418 non-null    object \n",
      " 8   Fare         417 non-null    float64\n",
      " 9   Cabin        91 non-null     object \n",
      " 10  Embarked     418 non-null    object \n",
      "dtypes: float64(2), int64(4), object(5)\n",
      "memory usage: 36.0+ KB\n"
     ]
    }
   ],
   "source": [
    "test_df.info()"
   ]
  },
  {
   "cell_type": "markdown",
   "id": "b2d46b22",
   "metadata": {
    "papermill": {
     "duration": 0.02554,
     "end_time": "2022-03-02T18:57:38.080289",
     "exception": false,
     "start_time": "2022-03-02T18:57:38.054749",
     "status": "completed"
    },
    "tags": []
   },
   "source": [
    "## Filling the missing values"
   ]
  },
  {
   "cell_type": "code",
   "execution_count": 6,
   "id": "ebf6392b",
   "metadata": {
    "execution": {
     "iopub.execute_input": "2022-03-02T18:57:38.136008Z",
     "iopub.status.busy": "2022-03-02T18:57:38.135387Z",
     "iopub.status.idle": "2022-03-02T18:57:38.141932Z",
     "shell.execute_reply": "2022-03-02T18:57:38.142407Z",
     "shell.execute_reply.started": "2022-03-02T18:48:36.489072Z"
    },
    "papermill": {
     "duration": 0.036621,
     "end_time": "2022-03-02T18:57:38.142588",
     "exception": false,
     "start_time": "2022-03-02T18:57:38.105967",
     "status": "completed"
    },
    "tags": []
   },
   "outputs": [],
   "source": [
    "train_df['Embarked'].fillna(train_df['Embarked'].mode()[0], inplace=True)\n",
    "train_df['Age'].fillna(train_df['Age'].mean(), inplace=True)"
   ]
  },
  {
   "cell_type": "code",
   "execution_count": 7,
   "id": "0901ade7",
   "metadata": {
    "execution": {
     "iopub.execute_input": "2022-03-02T18:57:38.201770Z",
     "iopub.status.busy": "2022-03-02T18:57:38.200817Z",
     "iopub.status.idle": "2022-03-02T18:57:38.203137Z",
     "shell.execute_reply": "2022-03-02T18:57:38.202634Z",
     "shell.execute_reply.started": "2022-03-02T18:48:36.504564Z"
    },
    "papermill": {
     "duration": 0.034853,
     "end_time": "2022-03-02T18:57:38.203290",
     "exception": false,
     "start_time": "2022-03-02T18:57:38.168437",
     "status": "completed"
    },
    "tags": []
   },
   "outputs": [],
   "source": [
    "test_df['Age'].fillna(test_df['Age'].mean(), inplace=True)\n",
    "test_df['Fare'].fillna(test_df['Fare'].mean(), inplace=True)"
   ]
  },
  {
   "cell_type": "code",
   "execution_count": 8,
   "id": "28b8e626",
   "metadata": {
    "execution": {
     "iopub.execute_input": "2022-03-02T18:57:38.266560Z",
     "iopub.status.busy": "2022-03-02T18:57:38.265526Z",
     "iopub.status.idle": "2022-03-02T18:57:38.267453Z",
     "shell.execute_reply": "2022-03-02T18:57:38.268064Z",
     "shell.execute_reply.started": "2022-03-02T18:48:36.518930Z"
    },
    "papermill": {
     "duration": 0.039263,
     "end_time": "2022-03-02T18:57:38.268245",
     "exception": false,
     "start_time": "2022-03-02T18:57:38.228982",
     "status": "completed"
    },
    "tags": []
   },
   "outputs": [],
   "source": [
    "train_df = train_df.drop(['Cabin','Name','Ticket'], axis=1)\n",
    "test_df = test_df.drop(['Cabin','Name','Ticket'], axis=1)"
   ]
  },
  {
   "cell_type": "code",
   "execution_count": 9,
   "id": "d86935c2",
   "metadata": {
    "execution": {
     "iopub.execute_input": "2022-03-02T18:57:38.325352Z",
     "iopub.status.busy": "2022-03-02T18:57:38.324351Z",
     "iopub.status.idle": "2022-03-02T18:57:38.336558Z",
     "shell.execute_reply": "2022-03-02T18:57:38.337205Z",
     "shell.execute_reply.started": "2022-03-02T18:48:36.532333Z"
    },
    "papermill": {
     "duration": 0.041759,
     "end_time": "2022-03-02T18:57:38.337391",
     "exception": false,
     "start_time": "2022-03-02T18:57:38.295632",
     "status": "completed"
    },
    "tags": []
   },
   "outputs": [
    {
     "name": "stdout",
     "output_type": "stream",
     "text": [
      "<class 'pandas.core.frame.DataFrame'>\n",
      "RangeIndex: 891 entries, 0 to 890\n",
      "Data columns (total 9 columns):\n",
      " #   Column       Non-Null Count  Dtype  \n",
      "---  ------       --------------  -----  \n",
      " 0   PassengerId  891 non-null    int64  \n",
      " 1   Survived     891 non-null    int64  \n",
      " 2   Pclass       891 non-null    int64  \n",
      " 3   Sex          891 non-null    object \n",
      " 4   Age          891 non-null    float64\n",
      " 5   SibSp        891 non-null    int64  \n",
      " 6   Parch        891 non-null    int64  \n",
      " 7   Fare         891 non-null    float64\n",
      " 8   Embarked     891 non-null    object \n",
      "dtypes: float64(2), int64(5), object(2)\n",
      "memory usage: 62.8+ KB\n"
     ]
    }
   ],
   "source": [
    "train_df.info()"
   ]
  },
  {
   "cell_type": "code",
   "execution_count": 10,
   "id": "71c1e921",
   "metadata": {
    "execution": {
     "iopub.execute_input": "2022-03-02T18:57:38.393611Z",
     "iopub.status.busy": "2022-03-02T18:57:38.392595Z",
     "iopub.status.idle": "2022-03-02T18:57:38.397520Z",
     "shell.execute_reply": "2022-03-02T18:57:38.397990Z",
     "shell.execute_reply.started": "2022-03-02T18:48:36.557150Z"
    },
    "papermill": {
     "duration": 0.034684,
     "end_time": "2022-03-02T18:57:38.398168",
     "exception": false,
     "start_time": "2022-03-02T18:57:38.363484",
     "status": "completed"
    },
    "tags": []
   },
   "outputs": [],
   "source": [
    "x_train = train_df.iloc[:,2:]\n",
    "y_train = train_df.iloc[:,1]"
   ]
  },
  {
   "cell_type": "markdown",
   "id": "bcfcacc1",
   "metadata": {
    "papermill": {
     "duration": 0.025923,
     "end_time": "2022-03-02T18:57:38.450905",
     "exception": false,
     "start_time": "2022-03-02T18:57:38.424982",
     "status": "completed"
    },
    "tags": []
   },
   "source": [
    "## Encoding the categorical variables"
   ]
  },
  {
   "cell_type": "code",
   "execution_count": 11,
   "id": "ea94b1bf",
   "metadata": {
    "execution": {
     "iopub.execute_input": "2022-03-02T18:57:38.513447Z",
     "iopub.status.busy": "2022-03-02T18:57:38.512422Z",
     "iopub.status.idle": "2022-03-02T18:57:38.532447Z",
     "shell.execute_reply": "2022-03-02T18:57:38.533263Z",
     "shell.execute_reply.started": "2022-03-02T18:48:36.563798Z"
    },
    "papermill": {
     "duration": 0.056244,
     "end_time": "2022-03-02T18:57:38.533480",
     "exception": false,
     "start_time": "2022-03-02T18:57:38.477236",
     "status": "completed"
    },
    "tags": []
   },
   "outputs": [
    {
     "name": "stdout",
     "output_type": "stream",
     "text": [
      "<class 'pandas.core.frame.DataFrame'>\n",
      "RangeIndex: 891 entries, 0 to 890\n",
      "Data columns (total 10 columns):\n",
      " #   Column      Non-Null Count  Dtype  \n",
      "---  ------      --------------  -----  \n",
      " 0   Pclass      891 non-null    int64  \n",
      " 1   Age         891 non-null    float64\n",
      " 2   SibSp       891 non-null    int64  \n",
      " 3   Parch       891 non-null    int64  \n",
      " 4   Fare        891 non-null    float64\n",
      " 5   Sex_female  891 non-null    uint8  \n",
      " 6   Sex_male    891 non-null    uint8  \n",
      " 7   Embarked_C  891 non-null    uint8  \n",
      " 8   Embarked_Q  891 non-null    uint8  \n",
      " 9   Embarked_S  891 non-null    uint8  \n",
      "dtypes: float64(2), int64(3), uint8(5)\n",
      "memory usage: 39.3 KB\n"
     ]
    }
   ],
   "source": [
    "x_train = pd.get_dummies(x_train)\n",
    "test_df = pd.get_dummies(test_df)\n",
    "x_train.info()"
   ]
  },
  {
   "cell_type": "markdown",
   "id": "b1432315",
   "metadata": {
    "execution": {
     "iopub.execute_input": "2022-03-02T18:56:23.495394Z",
     "iopub.status.busy": "2022-03-02T18:56:23.495010Z",
     "iopub.status.idle": "2022-03-02T18:56:23.500331Z",
     "shell.execute_reply": "2022-03-02T18:56:23.499293Z",
     "shell.execute_reply.started": "2022-03-02T18:56:23.495359Z"
    },
    "papermill": {
     "duration": 0.026242,
     "end_time": "2022-03-02T18:57:38.586319",
     "exception": false,
     "start_time": "2022-03-02T18:57:38.560077",
     "status": "completed"
    },
    "tags": []
   },
   "source": [
    "## Building and Tuning the Hyperparameters of the Random Forest model"
   ]
  },
  {
   "cell_type": "code",
   "execution_count": 12,
   "id": "df6667a1",
   "metadata": {
    "execution": {
     "iopub.execute_input": "2022-03-02T18:57:38.643136Z",
     "iopub.status.busy": "2022-03-02T18:57:38.642422Z",
     "iopub.status.idle": "2022-03-02T18:57:38.646016Z",
     "shell.execute_reply": "2022-03-02T18:57:38.646584Z",
     "shell.execute_reply.started": "2022-03-02T18:48:36.596312Z"
    },
    "papermill": {
     "duration": 0.033928,
     "end_time": "2022-03-02T18:57:38.646744",
     "exception": false,
     "start_time": "2022-03-02T18:57:38.612816",
     "status": "completed"
    },
    "tags": []
   },
   "outputs": [],
   "source": [
    "rf = RandomForestClassifier()"
   ]
  },
  {
   "cell_type": "code",
   "execution_count": 13,
   "id": "3aa6f5dc",
   "metadata": {
    "execution": {
     "iopub.execute_input": "2022-03-02T18:57:38.704030Z",
     "iopub.status.busy": "2022-03-02T18:57:38.703335Z",
     "iopub.status.idle": "2022-03-02T18:57:39.867978Z",
     "shell.execute_reply": "2022-03-02T18:57:39.868881Z",
     "shell.execute_reply.started": "2022-03-02T18:48:36.603419Z"
    },
    "papermill": {
     "duration": 1.195505,
     "end_time": "2022-03-02T18:57:39.869133",
     "exception": false,
     "start_time": "2022-03-02T18:57:38.673628",
     "status": "completed"
    },
    "tags": []
   },
   "outputs": [
    {
     "name": "stdout",
     "output_type": "stream",
     "text": [
      "0.8092398468394952\n"
     ]
    }
   ],
   "source": [
    "score = cross_val_score(rf,x_train,y_train,cv=5,scoring='accuracy')\n",
    "print(score.mean())"
   ]
  },
  {
   "cell_type": "code",
   "execution_count": 14,
   "id": "63fb2c21",
   "metadata": {
    "execution": {
     "iopub.execute_input": "2022-03-02T18:57:39.934446Z",
     "iopub.status.busy": "2022-03-02T18:57:39.933734Z",
     "iopub.status.idle": "2022-03-02T18:57:39.937107Z",
     "shell.execute_reply": "2022-03-02T18:57:39.937933Z",
     "shell.execute_reply.started": "2022-03-02T18:48:37.778486Z"
    },
    "papermill": {
     "duration": 0.040362,
     "end_time": "2022-03-02T18:57:39.938185",
     "exception": false,
     "start_time": "2022-03-02T18:57:39.897823",
     "status": "completed"
    },
    "tags": []
   },
   "outputs": [
    {
     "name": "stdout",
     "output_type": "stream",
     "text": [
      "{'n_estimators': [200, 400, 600, 800, 1000, 1200, 1400, 1600, 1800, 2000], 'max_features': ['auto', 'sqrt'], 'max_depth': [10, 20, 30, 40, 50, 60, 70, 80, 90, 100, 110, None], 'bootstrap': [True, False]}\n"
     ]
    }
   ],
   "source": [
    "n_estimators = [int(x) for x in np.linspace(start = 200, stop = 2000, num = 10)]\n",
    "max_features = ['auto', 'sqrt']\n",
    "max_depth = [int(x) for x in np.linspace(10, 110, num = 11)]\n",
    "max_depth.append(None)\n",
    "bootstrap = [True, False]\n",
    "\n",
    "random_grid = {'n_estimators': n_estimators,\n",
    "               'max_features': max_features,\n",
    "               'max_depth': max_depth,\n",
    "               'bootstrap': bootstrap}\n",
    "\n",
    "print(random_grid)"
   ]
  },
  {
   "cell_type": "code",
   "execution_count": 15,
   "id": "18d13fe8",
   "metadata": {
    "execution": {
     "iopub.execute_input": "2022-03-02T18:57:40.001002Z",
     "iopub.status.busy": "2022-03-02T18:57:39.999572Z",
     "iopub.status.idle": "2022-03-02T19:01:51.558418Z",
     "shell.execute_reply": "2022-03-02T19:01:51.558937Z",
     "shell.execute_reply.started": "2022-03-02T18:48:37.785012Z"
    },
    "papermill": {
     "duration": 251.592492,
     "end_time": "2022-03-02T19:01:51.559131",
     "exception": false,
     "start_time": "2022-03-02T18:57:39.966639",
     "status": "completed"
    },
    "tags": []
   },
   "outputs": [
    {
     "name": "stdout",
     "output_type": "stream",
     "text": [
      "Fitting 3 folds for each of 100 candidates, totalling 300 fits\n"
     ]
    },
    {
     "name": "stderr",
     "output_type": "stream",
     "text": [
      "[Parallel(n_jobs=-1)]: Using backend LokyBackend with 4 concurrent workers.\n",
      "[Parallel(n_jobs=-1)]: Done  33 tasks      | elapsed:   35.5s\n",
      "[Parallel(n_jobs=-1)]: Done 154 tasks      | elapsed:  1.9min\n"
     ]
    },
    {
     "name": "stdout",
     "output_type": "stream",
     "text": [
      "[CV] n_estimators=800, max_features=sqrt, max_depth=40, bootstrap=True \n",
      "[CV]  n_estimators=800, max_features=sqrt, max_depth=40, bootstrap=True, total=   2.9s\n",
      "[CV] n_estimators=1000, max_features=sqrt, max_depth=90, bootstrap=False \n",
      "[CV]  n_estimators=1000, max_features=sqrt, max_depth=90, bootstrap=False, total=   3.0s\n",
      "[CV] n_estimators=1000, max_features=sqrt, max_depth=80, bootstrap=False \n",
      "[CV]  n_estimators=1000, max_features=sqrt, max_depth=80, bootstrap=False, total=   3.0s\n",
      "[CV] n_estimators=2000, max_features=sqrt, max_depth=80, bootstrap=False \n",
      "[CV]  n_estimators=2000, max_features=sqrt, max_depth=80, bootstrap=False, total=   5.8s\n",
      "[CV] n_estimators=600, max_features=sqrt, max_depth=90, bootstrap=True \n",
      "[CV]  n_estimators=600, max_features=sqrt, max_depth=90, bootstrap=True, total=   2.0s\n",
      "[CV] n_estimators=1800, max_features=auto, max_depth=20, bootstrap=False \n",
      "[CV]  n_estimators=1800, max_features=auto, max_depth=20, bootstrap=False, total=   5.8s\n",
      "[CV] n_estimators=1600, max_features=sqrt, max_depth=40, bootstrap=True \n",
      "[CV]  n_estimators=1600, max_features=sqrt, max_depth=40, bootstrap=True, total=   5.4s\n",
      "[CV] n_estimators=2000, max_features=auto, max_depth=10, bootstrap=True \n",
      "[CV]  n_estimators=2000, max_features=auto, max_depth=10, bootstrap=True, total=   6.6s\n",
      "[CV] n_estimators=800, max_features=sqrt, max_depth=100, bootstrap=False \n",
      "[CV]  n_estimators=800, max_features=sqrt, max_depth=100, bootstrap=False, total=   2.4s\n",
      "[CV] n_estimators=200, max_features=sqrt, max_depth=20, bootstrap=True \n",
      "[CV]  n_estimators=200, max_features=sqrt, max_depth=20, bootstrap=True, total=   0.7s\n",
      "[CV] n_estimators=200, max_features=sqrt, max_depth=20, bootstrap=True \n",
      "[CV]  n_estimators=200, max_features=sqrt, max_depth=20, bootstrap=True, total=   0.7s\n",
      "[CV] n_estimators=200, max_features=sqrt, max_depth=20, bootstrap=True \n",
      "[CV]  n_estimators=200, max_features=sqrt, max_depth=20, bootstrap=True, total=   0.7s\n",
      "[CV] n_estimators=800, max_features=sqrt, max_depth=50, bootstrap=True \n",
      "[CV]  n_estimators=800, max_features=sqrt, max_depth=50, bootstrap=True, total=   2.7s\n",
      "[CV] n_estimators=1200, max_features=sqrt, max_depth=30, bootstrap=True \n",
      "[CV]  n_estimators=1200, max_features=sqrt, max_depth=30, bootstrap=True, total=   4.1s\n",
      "[CV] n_estimators=800, max_features=auto, max_depth=100, bootstrap=False \n",
      "[CV]  n_estimators=800, max_features=auto, max_depth=100, bootstrap=False, total=   2.5s\n",
      "[CV] n_estimators=800, max_features=sqrt, max_depth=20, bootstrap=True \n",
      "[CV]  n_estimators=800, max_features=sqrt, max_depth=20, bootstrap=True, total=   3.4s\n",
      "[CV] n_estimators=200, max_features=auto, max_depth=100, bootstrap=True \n",
      "[CV]  n_estimators=200, max_features=auto, max_depth=100, bootstrap=True, total=   0.7s\n",
      "[CV] n_estimators=200, max_features=auto, max_depth=100, bootstrap=True \n",
      "[CV]  n_estimators=200, max_features=auto, max_depth=100, bootstrap=True, total=   0.7s\n",
      "[CV] n_estimators=1200, max_features=auto, max_depth=None, bootstrap=False \n",
      "[CV]  n_estimators=1200, max_features=auto, max_depth=None, bootstrap=False, total=   3.5s\n",
      "[CV] n_estimators=1000, max_features=auto, max_depth=60, bootstrap=True \n",
      "[CV]  n_estimators=1000, max_features=auto, max_depth=60, bootstrap=True, total=   3.4s\n",
      "[CV] n_estimators=1000, max_features=sqrt, max_depth=None, bootstrap=False \n",
      "[CV]  n_estimators=1000, max_features=sqrt, max_depth=None, bootstrap=False, total=   3.0s\n",
      "[CV] n_estimators=400, max_features=auto, max_depth=50, bootstrap=False \n",
      "[CV]  n_estimators=400, max_features=auto, max_depth=50, bootstrap=False, total=   1.1s\n",
      "[CV] n_estimators=400, max_features=auto, max_depth=50, bootstrap=False \n",
      "[CV]  n_estimators=400, max_features=auto, max_depth=50, bootstrap=False, total=   1.2s\n",
      "[CV] n_estimators=400, max_features=auto, max_depth=50, bootstrap=False \n",
      "[CV]  n_estimators=400, max_features=auto, max_depth=50, bootstrap=False, total=   1.2s\n",
      "[CV] n_estimators=400, max_features=auto, max_depth=40, bootstrap=False \n",
      "[CV]  n_estimators=400, max_features=auto, max_depth=40, bootstrap=False, total=   1.2s\n",
      "[CV] n_estimators=400, max_features=sqrt, max_depth=80, bootstrap=False \n",
      "[CV]  n_estimators=400, max_features=sqrt, max_depth=80, bootstrap=False, total=   1.2s\n",
      "[CV] n_estimators=400, max_features=sqrt, max_depth=10, bootstrap=True \n",
      "[CV]  n_estimators=400, max_features=sqrt, max_depth=10, bootstrap=True, total=   1.4s\n",
      "[CV] n_estimators=200, max_features=sqrt, max_depth=100, bootstrap=False \n",
      "[CV]  n_estimators=200, max_features=sqrt, max_depth=100, bootstrap=False, total=   0.6s\n",
      "[CV] n_estimators=1600, max_features=sqrt, max_depth=70, bootstrap=False \n",
      "[CV]  n_estimators=1600, max_features=sqrt, max_depth=70, bootstrap=False, total=   4.7s\n",
      "[CV] n_estimators=600, max_features=auto, max_depth=40, bootstrap=False \n",
      "[CV]  n_estimators=600, max_features=auto, max_depth=40, bootstrap=False, total=   1.7s\n",
      "[CV] n_estimators=600, max_features=auto, max_depth=40, bootstrap=False \n",
      "[CV]  n_estimators=600, max_features=auto, max_depth=40, bootstrap=False, total=   1.8s\n",
      "[CV] n_estimators=800, max_features=sqrt, max_depth=90, bootstrap=True \n",
      "[CV]  n_estimators=800, max_features=sqrt, max_depth=90, bootstrap=True, total=   2.7s\n",
      "[CV] n_estimators=400, max_features=sqrt, max_depth=None, bootstrap=False \n",
      "[CV]  n_estimators=400, max_features=sqrt, max_depth=None, bootstrap=False, total=   1.3s\n",
      "[CV] n_estimators=1800, max_features=sqrt, max_depth=10, bootstrap=True \n",
      "[CV]  n_estimators=1800, max_features=sqrt, max_depth=10, bootstrap=True, total=   6.3s\n",
      "[CV] n_estimators=200, max_features=sqrt, max_depth=50, bootstrap=True \n",
      "[CV]  n_estimators=200, max_features=sqrt, max_depth=50, bootstrap=True, total=   0.7s\n",
      "[CV] n_estimators=200, max_features=sqrt, max_depth=50, bootstrap=True \n",
      "[CV]  n_estimators=200, max_features=sqrt, max_depth=50, bootstrap=True, total=   0.7s\n",
      "[CV] n_estimators=200, max_features=sqrt, max_depth=50, bootstrap=True \n",
      "[CV]  n_estimators=200, max_features=sqrt, max_depth=50, bootstrap=True, total=   0.7s\n",
      "[CV] n_estimators=200, max_features=auto, max_depth=None, bootstrap=True \n",
      "[CV]  n_estimators=200, max_features=auto, max_depth=None, bootstrap=True, total=   0.7s\n",
      "[CV] n_estimators=200, max_features=auto, max_depth=None, bootstrap=True \n",
      "[CV]  n_estimators=200, max_features=auto, max_depth=None, bootstrap=True, total=   0.7s\n",
      "[CV] n_estimators=800, max_features=auto, max_depth=50, bootstrap=False \n",
      "[CV]  n_estimators=800, max_features=auto, max_depth=50, bootstrap=False, total=   2.3s\n",
      "[CV] n_estimators=800, max_features=auto, max_depth=50, bootstrap=False \n",
      "[CV]  n_estimators=800, max_features=auto, max_depth=50, bootstrap=False, total=   2.3s\n",
      "[CV] n_estimators=800, max_features=auto, max_depth=50, bootstrap=False \n",
      "[CV]  n_estimators=800, max_features=auto, max_depth=50, bootstrap=False, total=   2.3s\n",
      "[CV] n_estimators=1400, max_features=sqrt, max_depth=40, bootstrap=True \n",
      "[CV]  n_estimators=1400, max_features=sqrt, max_depth=40, bootstrap=True, total=   4.7s\n",
      "[CV] n_estimators=1400, max_features=sqrt, max_depth=40, bootstrap=True \n",
      "[CV]  n_estimators=1400, max_features=sqrt, max_depth=40, bootstrap=True, total=   4.8s\n",
      "[CV] n_estimators=1200, max_features=sqrt, max_depth=80, bootstrap=True \n",
      "[CV]  n_estimators=1200, max_features=sqrt, max_depth=80, bootstrap=True, total=   4.1s\n",
      "[CV] n_estimators=1200, max_features=sqrt, max_depth=90, bootstrap=False \n",
      "[CV]  n_estimators=1200, max_features=sqrt, max_depth=90, bootstrap=False, total=   4.0s\n",
      "[CV] n_estimators=1200, max_features=auto, max_depth=40, bootstrap=False \n",
      "[CV]  n_estimators=1200, max_features=auto, max_depth=40, bootstrap=False, total=   3.6s\n",
      "[CV] n_estimators=1400, max_features=auto, max_depth=20, bootstrap=False \n",
      "[CV]  n_estimators=1400, max_features=auto, max_depth=20, bootstrap=False, total=   4.2s\n",
      "[CV] n_estimators=400, max_features=auto, max_depth=60, bootstrap=True \n",
      "[CV]  n_estimators=400, max_features=auto, max_depth=60, bootstrap=True, total=   1.3s\n",
      "[CV] n_estimators=1600, max_features=sqrt, max_depth=None, bootstrap=False \n",
      "[CV]  n_estimators=1600, max_features=sqrt, max_depth=None, bootstrap=False, total=   4.6s\n",
      "[CV] n_estimators=800, max_features=sqrt, max_depth=60, bootstrap=True \n",
      "[CV]  n_estimators=800, max_features=sqrt, max_depth=60, bootstrap=True, total=   2.7s[CV] n_estimators=800, max_features=sqrt, max_depth=40, bootstrap=True \n",
      "[CV]  n_estimators=800, max_features=sqrt, max_depth=40, bootstrap=True, total=   2.9s\n",
      "[CV] n_estimators=1000, max_features=sqrt, max_depth=80, bootstrap=False \n",
      "[CV]  n_estimators=1000, max_features=sqrt, max_depth=80, bootstrap=False, total=   2.9s\n",
      "[CV] n_estimators=1600, max_features=sqrt, max_depth=20, bootstrap=False \n",
      "[CV]  n_estimators=1600, max_features=sqrt, max_depth=20, bootstrap=False, total=   4.6s\n",
      "[CV] n_estimators=2000, max_features=sqrt, max_depth=80, bootstrap=False \n",
      "[CV]  n_estimators=2000, max_features=sqrt, max_depth=80, bootstrap=False, total=   6.0s\n",
      "[CV] n_estimators=1800, max_features=auto, max_depth=20, bootstrap=False \n",
      "[CV]  n_estimators=1800, max_features=auto, max_depth=20, bootstrap=False, total=   5.6s\n",
      "[CV] n_estimators=1600, max_features=sqrt, max_depth=40, bootstrap=True \n",
      "[CV]  n_estimators=1600, max_features=sqrt, max_depth=40, bootstrap=True, total=   5.4s\n",
      "[CV] n_estimators=600, max_features=auto, max_depth=110, bootstrap=False \n",
      "[CV]  n_estimators=600, max_features=auto, max_depth=110, bootstrap=False, total=   1.8s\n",
      "[CV] n_estimators=400, max_features=auto, max_depth=30, bootstrap=False \n",
      "[CV]  n_estimators=400, max_features=auto, max_depth=30, bootstrap=False, total=   1.1s\n",
      "[CV] n_estimators=400, max_features=auto, max_depth=30, bootstrap=False \n",
      "[CV]  n_estimators=400, max_features=auto, max_depth=30, bootstrap=False, total=   1.2s\n",
      "[CV] n_estimators=400, max_features=auto, max_depth=30, bootstrap=False \n",
      "[CV]  n_estimators=400, max_features=auto, max_depth=30, bootstrap=False, total=   1.2s\n",
      "[CV] n_estimators=800, max_features=sqrt, max_depth=100, bootstrap=False \n",
      "[CV]  n_estimators=800, max_features=sqrt, max_depth=100, bootstrap=False, total=   2.3s\n",
      "[CV] n_estimators=1800, max_features=sqrt, max_depth=30, bootstrap=False \n",
      "[CV]  n_estimators=1800, max_features=sqrt, max_depth=30, bootstrap=False, total=   5.3s\n",
      "[CV] n_estimators=800, max_features=sqrt, max_depth=50, bootstrap=True \n",
      "[CV]  n_estimators=800, max_features=sqrt, max_depth=50, bootstrap=True, total=   2.7s\n",
      "[CV] n_estimators=1200, max_features=sqrt, max_depth=30, bootstrap=True \n",
      "[CV]  n_estimators=1200, max_features=sqrt, max_depth=30, bootstrap=True, total=   4.1s\n",
      "[CV] n_estimators=800, max_features=sqrt, max_depth=20, bootstrap=True \n",
      "[CV]  n_estimators=800, max_features=sqrt, max_depth=20, bootstrap=True, total=   2.8s\n",
      "[CV] n_estimators=800, max_features=auto, max_depth=110, bootstrap=True \n",
      "[CV]  n_estimators=800, max_features=auto, max_depth=110, bootstrap=True, total=   3.0s\n",
      "[CV] n_estimators=200, max_features=sqrt, max_depth=40, bootstrap=True \n",
      "[CV]  n_estimators=200, max_features=sqrt, max_depth=40, bootstrap=True, total=   0.7s\n",
      "[CV] n_estimators=200, max_features=sqrt, max_depth=40, bootstrap=True \n",
      "[CV]  n_estimators=200, max_features=sqrt, max_depth=40, bootstrap=True, total=   0.7s\n",
      "[CV] n_estimators=200, max_features=sqrt, max_depth=40, bootstrap=True \n",
      "[CV]  n_estimators=200, max_features=sqrt, max_depth=40, bootstrap=True, total=   0.7s\n",
      "[CV] n_estimators=400, max_features=auto, max_depth=20, bootstrap=False \n",
      "[CV]  n_estimators=400, max_features=auto, max_depth=20, bootstrap=False, total=   1.1s\n",
      "[CV] n_estimators=1000, max_features=auto, max_depth=60, bootstrap=True \n",
      "[CV]  n_estimators=1000, max_features=auto, max_depth=60, bootstrap=True, total=   3.4s\n",
      "[CV] n_estimators=1000, max_features=sqrt, max_depth=None, bootstrap=False \n",
      "[CV]  n_estimators=1000, max_features=sqrt, max_depth=None, bootstrap=False, total=   3.0s\n",
      "[CV] n_estimators=1800, max_features=sqrt, max_depth=60, bootstrap=False \n",
      "[CV]  n_estimators=1800, max_features=sqrt, max_depth=60, bootstrap=False, total=   5.2s\n",
      "[CV] n_estimators=400, max_features=sqrt, max_depth=80, bootstrap=False \n",
      "[CV]  n_estimators=400, max_features=sqrt, max_depth=80, bootstrap=False, total=   1.2s\n",
      "[CV] n_estimators=200, max_features=auto, max_depth=80, bootstrap=False \n",
      "[CV]  n_estimators=200, max_features=auto, max_depth=80, bootstrap=False, total=   0.6s\n",
      "[CV] n_estimators=200, max_features=auto, max_depth=80, bootstrap=False \n",
      "[CV]  n_estimators=200, max_features=auto, max_depth=80, bootstrap=False, total=   0.6s\n",
      "[CV] n_estimators=1600, max_features=sqrt, max_depth=70, bootstrap=False \n",
      "[CV]  n_estimators=1600, max_features=sqrt, max_depth=70, bootstrap=False, total=   4.6s\n",
      "[CV] n_estimators=1600, max_features=sqrt, max_depth=60, bootstrap=True \n",
      "[CV]  n_estimators=1600, max_features=sqrt, max_depth=60, bootstrap=True, total=   5.4s\n",
      "[CV] n_estimators=800, max_features=sqrt, max_depth=90, bootstrap=True \n",
      "[CV]  n_estimators=800, max_features=sqrt, max_depth=90, bootstrap=True, total=   2.8s\n",
      "[CV] n_estimators=600, max_features=sqrt, max_depth=50, bootstrap=False \n",
      "[CV]  n_estimators=600, max_features=sqrt, max_depth=50, bootstrap=False, total=   1.9s\n",
      "[CV] n_estimators=600, max_features=sqrt, max_depth=50, bootstrap=False \n",
      "[CV]  n_estimators=600, max_features=sqrt, max_depth=50, bootstrap=False, total=   1.7s\n",
      "[CV] n_estimators=600, max_features=sqrt, max_depth=50, bootstrap=False \n",
      "[CV]  n_estimators=600, max_features=sqrt, max_depth=50, bootstrap=False, total=   1.8s\n",
      "[CV] n_estimators=1200, max_features=auto, max_depth=100, bootstrap=True \n",
      "[CV]  n_estimators=1200, max_features=auto, max_depth=100, bootstrap=True, total=   4.2s\n",
      "[CV] n_estimators=2000, max_features=sqrt, max_depth=20, bootstrap=True \n",
      "[CV]  n_estimators=2000, max_features=sqrt, max_depth=20, bootstrap=True, total=   6.7s\n",
      "[CV] n_estimators=2000, max_features=sqrt, max_depth=110, bootstrap=False \n",
      "[CV]  n_estimators=2000, max_features=sqrt, max_depth=110, bootstrap=False, total=   5.9s\n",
      "[CV] n_estimators=1200, max_features=sqrt, max_depth=80, bootstrap=True \n",
      "[CV]  n_estimators=1200, max_features=sqrt, max_depth=80, bootstrap=True, total=   4.0s\n",
      "[CV] n_estimators=800, max_features=auto, max_depth=40, bootstrap=True \n",
      "[CV]  n_estimators=800, max_features=auto, max_depth=40, bootstrap=True, total=   2.6s\n",
      "[CV] n_estimators=200, max_features=sqrt, max_depth=80, bootstrap=False \n",
      "[CV]  n_estimators=200, max_features=sqrt, max_depth=80, bootstrap=False, total=   0.6s\n",
      "[CV] n_estimators=200, max_features=auto, max_depth=60, bootstrap=False \n",
      "[CV]  n_estimators=200, max_features=auto, max_depth=60, bootstrap=False, total=   0.6s\n",
      "[CV] n_estimators=1200, max_features=sqrt, max_depth=90, bootstrap=False \n",
      "[CV]  n_estimators=1200, max_features=sqrt, max_depth=90, bootstrap=False, total=   3.8s\n",
      "[CV] n_estimators=1000, max_features=sqrt, max_depth=100, bootstrap=False \n",
      "[CV]  n_estimators=1000, max_features=sqrt, max_depth=100, bootstrap=False, total=   3.0s\n",
      "[CV] n_estimators=1200, max_features=auto, max_depth=40, bootstrap=False \n",
      "[CV]  n_estimators=1200, max_features=auto, max_depth=40, bootstrap=False, total=   3.5s\n",
      "[CV] n_estimators=600, max_features=auto, max_depth=50, bootstrap=True \n",
      "[CV]  n_estimators=600, max_features=auto, max_depth=50, bootstrap=True, total=   2.1s\n",
      "[CV] n_estimators=400, max_features=auto, max_depth=60, bootstrap=True \n",
      "[CV]  n_estimators=400, max_features=auto, max_depth=60, bootstrap=True, total=   1.3s\n",
      "[CV] n_estimators=1600, max_features=sqrt, max_depth=None, bootstrap=False \n",
      "[CV]  n_estimators=1600, max_features=sqrt, max_depth=None, bootstrap=False, total=   4.8s\n",
      "[CV] n_estimators=800, max_features=auto, max_depth=None, bootstrap=False \n",
      "[CV]  n_estimators=800, max_features=auto, max_depth=None, bootstrap=False, total=   2.4s\n",
      "[CV] n_estimators=800, max_features=sqrt, max_depth=10, bootstrap=False \n",
      "[CV]  n_estimators=800, max_features=sqrt, max_depth=10, bootstrap=False, total=   2.4s\n",
      "[CV] n_estimators=1600, max_features=sqrt, max_depth=70, bootstrap=True \n",
      "[CV]  n_estimators=1600, max_features=sqrt, max_depth=70, bootstrap=True, total=   5.8s\n",
      "[CV] n_estimators=1000, max_features=sqrt, max_depth=None, bootstrap=True \n",
      "[CV]  n_estimators=1000, max_features=sqrt, max_depth=None, bootstrap=True, total=   3.3s\n",
      "[CV] n_estimators=1000, max_features=sqrt, max_depth=None, bootstrap=True \n",
      "[CV]  n_estimators=1000, max_features=sqrt, max_depth=None, bootstrap=True, total=   3.5s\n",
      "[CV] n_estimators=600, max_features=auto, max_depth=50, bootstrap=False \n",
      "[CV]  n_estimators=600, max_features=auto, max_depth=50, bootstrap=False, total=   2.0s[CV] n_estimators=800, max_features=sqrt, max_depth=40, bootstrap=True \n",
      "[CV]  n_estimators=800, max_features=sqrt, max_depth=40, bootstrap=True, total=   3.0s\n",
      "[CV] n_estimators=1000, max_features=sqrt, max_depth=90, bootstrap=False \n",
      "[CV]  n_estimators=1000, max_features=sqrt, max_depth=90, bootstrap=False, total=   3.0s\n",
      "[CV] n_estimators=1600, max_features=sqrt, max_depth=20, bootstrap=False \n",
      "[CV]  n_estimators=1600, max_features=sqrt, max_depth=20, bootstrap=False, total=   4.8s\n",
      "[CV] n_estimators=2000, max_features=sqrt, max_depth=80, bootstrap=False \n",
      "[CV]  n_estimators=2000, max_features=sqrt, max_depth=80, bootstrap=False, total=   5.9s\n",
      "[CV] n_estimators=1200, max_features=sqrt, max_depth=70, bootstrap=False \n",
      "[CV]  n_estimators=1200, max_features=sqrt, max_depth=70, bootstrap=False, total=   3.7s\n",
      "[CV] n_estimators=1200, max_features=sqrt, max_depth=70, bootstrap=False \n",
      "[CV]  n_estimators=1200, max_features=sqrt, max_depth=70, bootstrap=False, total=   3.5s\n",
      "[CV] n_estimators=1600, max_features=sqrt, max_depth=40, bootstrap=True \n",
      "[CV]  n_estimators=1600, max_features=sqrt, max_depth=40, bootstrap=True, total=   5.5s\n",
      "[CV] n_estimators=2000, max_features=auto, max_depth=10, bootstrap=True \n",
      "[CV]  n_estimators=2000, max_features=auto, max_depth=10, bootstrap=True, total=   6.6s\n",
      "[CV] n_estimators=1800, max_features=sqrt, max_depth=30, bootstrap=False \n",
      "[CV]  n_estimators=1800, max_features=sqrt, max_depth=30, bootstrap=False, total=   5.5s\n",
      "[CV] n_estimators=800, max_features=sqrt, max_depth=50, bootstrap=True \n",
      "[CV]  n_estimators=800, max_features=sqrt, max_depth=50, bootstrap=True, total=   2.7s\n",
      "[CV] n_estimators=800, max_features=auto, max_depth=100, bootstrap=False \n",
      "[CV]  n_estimators=800, max_features=auto, max_depth=100, bootstrap=False, total=   2.3s\n",
      "[CV] n_estimators=800, max_features=sqrt, max_depth=20, bootstrap=True \n",
      "[CV]  n_estimators=800, max_features=sqrt, max_depth=20, bootstrap=True, total=   3.0s\n",
      "[CV] n_estimators=800, max_features=auto, max_depth=110, bootstrap=True \n",
      "[CV]  n_estimators=800, max_features=auto, max_depth=110, bootstrap=True, total=   2.9s\n",
      "[CV] n_estimators=1200, max_features=auto, max_depth=None, bootstrap=False \n",
      "[CV]  n_estimators=1200, max_features=auto, max_depth=None, bootstrap=False, total=   3.5s\n",
      "[CV] n_estimators=400, max_features=auto, max_depth=20, bootstrap=False \n",
      "[CV]  n_estimators=400, max_features=auto, max_depth=20, bootstrap=False, total=   1.2s\n",
      "[CV] n_estimators=1000, max_features=auto, max_depth=60, bootstrap=True \n",
      "[CV]  n_estimators=1000, max_features=auto, max_depth=60, bootstrap=True, total=   3.4s\n",
      "[CV] n_estimators=1800, max_features=sqrt, max_depth=60, bootstrap=False \n",
      "[CV]  n_estimators=1800, max_features=sqrt, max_depth=60, bootstrap=False, total=   5.3s\n",
      "[CV] n_estimators=400, max_features=auto, max_depth=40, bootstrap=False \n",
      "[CV]  n_estimators=400, max_features=auto, max_depth=40, bootstrap=False, total=   1.2s\n",
      "[CV] n_estimators=200, max_features=auto, max_depth=10, bootstrap=True \n",
      "[CV]  n_estimators=200, max_features=auto, max_depth=10, bootstrap=True, total=   0.7s\n",
      "[CV] n_estimators=400, max_features=sqrt, max_depth=80, bootstrap=False \n",
      "[CV]  n_estimators=400, max_features=sqrt, max_depth=80, bootstrap=False, total=   1.2s\n",
      "[CV] n_estimators=400, max_features=sqrt, max_depth=10, bootstrap=True \n",
      "[CV]  n_estimators=400, max_features=sqrt, max_depth=10, bootstrap=True, total=   1.4s\n",
      "[CV] n_estimators=200, max_features=sqrt, max_depth=100, bootstrap=False \n",
      "[CV]  n_estimators=200, max_features=sqrt, max_depth=100, bootstrap=False, total=   0.6s\n",
      "[CV] n_estimators=1600, max_features=sqrt, max_depth=60, bootstrap=True \n",
      "[CV]  n_estimators=1600, max_features=sqrt, max_depth=60, bootstrap=True, total=   5.3s\n",
      "[CV] n_estimators=600, max_features=auto, max_depth=40, bootstrap=False \n",
      "[CV]  n_estimators=600, max_features=auto, max_depth=40, bootstrap=False, total=   1.8s\n",
      "[CV] n_estimators=800, max_features=sqrt, max_depth=90, bootstrap=True \n",
      "[CV]  n_estimators=800, max_features=sqrt, max_depth=90, bootstrap=True, total=   2.8s\n",
      "[CV] n_estimators=400, max_features=sqrt, max_depth=None, bootstrap=False \n",
      "[CV]  n_estimators=400, max_features=sqrt, max_depth=None, bootstrap=False, total=   1.2s\n",
      "[CV] n_estimators=1800, max_features=sqrt, max_depth=10, bootstrap=True \n",
      "[CV]  n_estimators=1800, max_features=sqrt, max_depth=10, bootstrap=True, total=   6.3s\n",
      "[CV] n_estimators=1200, max_features=auto, max_depth=100, bootstrap=True \n",
      "[CV]  n_estimators=1200, max_features=auto, max_depth=100, bootstrap=True, total=   4.1s\n",
      "[CV] n_estimators=2000, max_features=sqrt, max_depth=20, bootstrap=True \n",
      "[CV]  n_estimators=2000, max_features=sqrt, max_depth=20, bootstrap=True, total=   6.7s\n",
      "[CV] n_estimators=2000, max_features=sqrt, max_depth=110, bootstrap=False \n",
      "[CV]  n_estimators=2000, max_features=sqrt, max_depth=110, bootstrap=False, total=   5.8s\n",
      "[CV] n_estimators=1400, max_features=sqrt, max_depth=40, bootstrap=True \n",
      "[CV]  n_estimators=1400, max_features=sqrt, max_depth=40, bootstrap=True, total=   4.7s\n",
      "[CV] n_estimators=800, max_features=auto, max_depth=40, bootstrap=True \n",
      "[CV]  n_estimators=800, max_features=auto, max_depth=40, bootstrap=True, total=   2.7s\n",
      "[CV] n_estimators=200, max_features=sqrt, max_depth=80, bootstrap=False \n",
      "[CV]  n_estimators=200, max_features=sqrt, max_depth=80, bootstrap=False, total=   0.6s\n",
      "[CV] n_estimators=200, max_features=auto, max_depth=60, bootstrap=False \n",
      "[CV]  n_estimators=200, max_features=auto, max_depth=60, bootstrap=False, total=   0.7s\n",
      "[CV] n_estimators=1000, max_features=sqrt, max_depth=100, bootstrap=False \n",
      "[CV]  n_estimators=1000, max_features=sqrt, max_depth=100, bootstrap=False, total=   3.4s\n",
      "[CV] n_estimators=1000, max_features=sqrt, max_depth=100, bootstrap=False \n",
      "[CV]  n_estimators=1000, max_features=sqrt, max_depth=100, bootstrap=False, total=   3.0s\n",
      "[CV] n_estimators=1400, max_features=auto, max_depth=20, bootstrap=False \n",
      "[CV]  n_estimators=1400, max_features=auto, max_depth=20, bootstrap=False, total=   4.2s\n",
      "[CV] n_estimators=600, max_features=auto, max_depth=50, bootstrap=True \n",
      "[CV]  n_estimators=600, max_features=auto, max_depth=50, bootstrap=True, total=   2.0s\n",
      "[CV] n_estimators=400, max_features=auto, max_depth=60, bootstrap=True \n",
      "[CV]  n_estimators=400, max_features=auto, max_depth=60, bootstrap=True, total=   1.4s\n",
      "[CV] n_estimators=800, max_features=sqrt, max_depth=60, bootstrap=True \n",
      "[CV]  n_estimators=800, max_features=sqrt, max_depth=60, bootstrap=True, total=   2.6s\n",
      "[CV] n_estimators=800, max_features=sqrt, max_depth=60, bootstrap=True \n",
      "[CV]  n_estimators=800, max_features=sqrt, max_depth=60, bootstrap=True, total=   2.7s\n",
      "[CV] n_estimators=800, max_features=auto, max_depth=None, bootstrap=False \n",
      "[CV]  n_estimators=800, max_features=auto, max_depth=None, bootstrap=False, total=   2.4s\n",
      "[CV] n_estimators=1800, max_features=sqrt, max_depth=40, bootstrap=True \n",
      "[CV]  n_estimators=1800, max_features=sqrt, max_depth=40, bootstrap=True, total=   6.0s\n",
      "[CV] n_estimators=1600, max_features=sqrt, max_depth=70, bootstrap=True \n",
      "[CV]  n_estimators=1600, max_features=sqrt, max_depth=70, bootstrap=True, total=   5.5s\n",
      "[CV] n_estimators=1000, max_features=auto, max_depth=40, bootstrap=False \n",
      "[CV]  n_estimators=1000, max_features=auto, max_depth=40, bootstrap=False, total=   3.3s\n",
      "[CV] n_estimators=600, max_features=auto, max_depth=50, bootstrap=False \n",
      "[CV]  n_estimators=600, max_features=auto, max_depth=50, bootstrap=False, total=   1.8s\n",
      "[CV] n_estimators=600, max_features=sqrt, max_depth=40, bootstrap=True \n",
      "[CV]  n_estimators=600, max_features=sqrt, max_depth=40, bootstrap=True, total=   2.0s\n",
      "[CV] n_estimators=600, max_features=sqrt, max_depth=40, bootstrap=True \n",
      "[CV]  n_estimators=600, max_features=sqrt, max_depth=40, bootstrap=True, total=   2.0s\n",
      "[CV] n_estimators=600, max_features=sqrt, max_depth=40, bootstrap=True \n",
      "[CV]  n_estimators=600, max_features=sqrt, max_depth=40, bootstrap=True, total=   2.1s\n",
      "[CV] n_estimators=200, max_features=sqrt, max_depth=40, bootstrap=False \n",
      "[CV]  n_estimators=200, max_features=sqrt, max_depth=40, bootstrap=False, total=   0.6s\n",
      "[CV] n_estimators=200, max_features=sqrt, max_depth=40, bootstrap=False \n",
      "[CV]  n_estimators=200, max_features=sqrt, max_depth=40, bootstrap=False, total=   0.6s[CV] n_estimators=1000, max_features=sqrt, max_depth=90, bootstrap=False \n",
      "[CV]  n_estimators=1000, max_features=sqrt, max_depth=90, bootstrap=False, total=   3.1s\n",
      "[CV] n_estimators=1000, max_features=sqrt, max_depth=80, bootstrap=False \n",
      "[CV]  n_estimators=1000, max_features=sqrt, max_depth=80, bootstrap=False, total=   3.0s\n",
      "[CV] n_estimators=1600, max_features=sqrt, max_depth=20, bootstrap=False \n",
      "[CV]  n_estimators=1600, max_features=sqrt, max_depth=20, bootstrap=False, total=   4.7s\n",
      "[CV] n_estimators=600, max_features=sqrt, max_depth=90, bootstrap=True \n",
      "[CV]  n_estimators=600, max_features=sqrt, max_depth=90, bootstrap=True, total=   2.0s\n",
      "[CV] n_estimators=600, max_features=sqrt, max_depth=90, bootstrap=True \n",
      "[CV]  n_estimators=600, max_features=sqrt, max_depth=90, bootstrap=True, total=   2.1s\n",
      "[CV] n_estimators=1800, max_features=auto, max_depth=20, bootstrap=False \n",
      "[CV]  n_estimators=1800, max_features=auto, max_depth=20, bootstrap=False, total=   5.7s\n",
      "[CV] n_estimators=1200, max_features=sqrt, max_depth=70, bootstrap=False \n",
      "[CV]  n_estimators=1200, max_features=sqrt, max_depth=70, bootstrap=False, total=   3.5s\n",
      "[CV] n_estimators=600, max_features=auto, max_depth=110, bootstrap=False \n",
      "[CV]  n_estimators=600, max_features=auto, max_depth=110, bootstrap=False, total=   1.8s\n",
      "[CV] n_estimators=600, max_features=auto, max_depth=110, bootstrap=False \n",
      "[CV]  n_estimators=600, max_features=auto, max_depth=110, bootstrap=False, total=   1.8s\n",
      "[CV] n_estimators=2000, max_features=auto, max_depth=10, bootstrap=True \n",
      "[CV]  n_estimators=2000, max_features=auto, max_depth=10, bootstrap=True, total=   6.5s\n",
      "[CV] n_estimators=800, max_features=sqrt, max_depth=100, bootstrap=False \n",
      "[CV]  n_estimators=800, max_features=sqrt, max_depth=100, bootstrap=False, total=   2.5s\n",
      "[CV] n_estimators=1800, max_features=sqrt, max_depth=30, bootstrap=False \n",
      "[CV]  n_estimators=1800, max_features=sqrt, max_depth=30, bootstrap=False, total=   5.4s\n",
      "[CV] n_estimators=1200, max_features=sqrt, max_depth=30, bootstrap=True \n",
      "[CV]  n_estimators=1200, max_features=sqrt, max_depth=30, bootstrap=True, total=   4.1s\n",
      "[CV] n_estimators=800, max_features=auto, max_depth=100, bootstrap=False \n",
      "[CV]  n_estimators=800, max_features=auto, max_depth=100, bootstrap=False, total=   2.4s\n",
      "[CV] n_estimators=800, max_features=auto, max_depth=110, bootstrap=True \n",
      "[CV]  n_estimators=800, max_features=auto, max_depth=110, bootstrap=True, total=   3.1s\n",
      "[CV] n_estimators=200, max_features=auto, max_depth=100, bootstrap=True \n",
      "[CV]  n_estimators=200, max_features=auto, max_depth=100, bootstrap=True, total=   0.7s\n",
      "[CV] n_estimators=1200, max_features=auto, max_depth=None, bootstrap=False \n",
      "[CV]  n_estimators=1200, max_features=auto, max_depth=None, bootstrap=False, total=   3.5s\n",
      "[CV] n_estimators=400, max_features=auto, max_depth=20, bootstrap=False \n",
      "[CV]  n_estimators=400, max_features=auto, max_depth=20, bootstrap=False, total=   1.2s\n",
      "[CV] n_estimators=1000, max_features=sqrt, max_depth=None, bootstrap=False \n",
      "[CV]  n_estimators=1000, max_features=sqrt, max_depth=None, bootstrap=False, total=   2.9s\n",
      "[CV] n_estimators=1800, max_features=sqrt, max_depth=60, bootstrap=False \n",
      "[CV]  n_estimators=1800, max_features=sqrt, max_depth=60, bootstrap=False, total=   5.2s\n",
      "[CV] n_estimators=400, max_features=auto, max_depth=40, bootstrap=False \n",
      "[CV]  n_estimators=400, max_features=auto, max_depth=40, bootstrap=False, total=   1.1s\n",
      "[CV] n_estimators=200, max_features=auto, max_depth=10, bootstrap=True \n",
      "[CV]  n_estimators=200, max_features=auto, max_depth=10, bootstrap=True, total=   0.7s\n",
      "[CV] n_estimators=200, max_features=auto, max_depth=10, bootstrap=True \n",
      "[CV]  n_estimators=200, max_features=auto, max_depth=10, bootstrap=True, total=   0.7s\n",
      "[CV] n_estimators=400, max_features=sqrt, max_depth=10, bootstrap=True \n",
      "[CV]  n_estimators=400, max_features=sqrt, max_depth=10, bootstrap=True, total=   1.3s\n",
      "[CV] n_estimators=200, max_features=auto, max_depth=80, bootstrap=False \n",
      "[CV]  n_estimators=200, max_features=auto, max_depth=80, bootstrap=False, total=   0.6s\n",
      "[CV] n_estimators=200, max_features=sqrt, max_depth=100, bootstrap=False \n",
      "[CV]  n_estimators=200, max_features=sqrt, max_depth=100, bootstrap=False, total=   0.6s\n",
      "[CV] n_estimators=1600, max_features=sqrt, max_depth=70, bootstrap=False \n",
      "[CV]  n_estimators=1600, max_features=sqrt, max_depth=70, bootstrap=False, total=   4.7s\n",
      "[CV] n_estimators=1600, max_features=sqrt, max_depth=60, bootstrap=True \n",
      "[CV]  n_estimators=1600, max_features=sqrt, max_depth=60, bootstrap=True, total=   5.5s\n",
      "[CV] n_estimators=400, max_features=sqrt, max_depth=None, bootstrap=False \n",
      "[CV]  n_estimators=400, max_features=sqrt, max_depth=None, bootstrap=False, total=   1.2s\n",
      "[CV] n_estimators=1800, max_features=sqrt, max_depth=10, bootstrap=True \n",
      "[CV]  n_estimators=1800, max_features=sqrt, max_depth=10, bootstrap=True, total=   6.2s\n",
      "[CV] n_estimators=1200, max_features=auto, max_depth=100, bootstrap=True \n",
      "[CV]  n_estimators=1200, max_features=auto, max_depth=100, bootstrap=True, total=   4.1s\n",
      "[CV] n_estimators=200, max_features=auto, max_depth=None, bootstrap=True \n",
      "[CV]  n_estimators=200, max_features=auto, max_depth=None, bootstrap=True, total=   0.7s\n",
      "[CV] n_estimators=2000, max_features=sqrt, max_depth=20, bootstrap=True \n",
      "[CV]  n_estimators=2000, max_features=sqrt, max_depth=20, bootstrap=True, total=   6.7s\n",
      "[CV] n_estimators=2000, max_features=sqrt, max_depth=110, bootstrap=False \n",
      "[CV]  n_estimators=2000, max_features=sqrt, max_depth=110, bootstrap=False, total=   5.9s\n",
      "[CV] n_estimators=1200, max_features=sqrt, max_depth=80, bootstrap=True \n",
      "[CV]  n_estimators=1200, max_features=sqrt, max_depth=80, bootstrap=True, total=   4.1s\n",
      "[CV] n_estimators=800, max_features=auto, max_depth=40, bootstrap=True \n",
      "[CV]  n_estimators=800, max_features=auto, max_depth=40, bootstrap=True, total=   2.7s\n",
      "[CV] n_estimators=200, max_features=sqrt, max_depth=80, bootstrap=False \n",
      "[CV]  n_estimators=200, max_features=sqrt, max_depth=80, bootstrap=False, total=   0.6s\n",
      "[CV] n_estimators=200, max_features=auto, max_depth=60, bootstrap=False \n",
      "[CV]  n_estimators=200, max_features=auto, max_depth=60, bootstrap=False, total=   0.7s\n",
      "[CV] n_estimators=1200, max_features=sqrt, max_depth=90, bootstrap=False \n",
      "[CV]  n_estimators=1200, max_features=sqrt, max_depth=90, bootstrap=False, total=   3.7s\n",
      "[CV] n_estimators=1200, max_features=auto, max_depth=40, bootstrap=False \n",
      "[CV]  n_estimators=1200, max_features=auto, max_depth=40, bootstrap=False, total=   3.5s\n",
      "[CV] n_estimators=1400, max_features=auto, max_depth=20, bootstrap=False \n",
      "[CV]  n_estimators=1400, max_features=auto, max_depth=20, bootstrap=False, total=   4.2s\n",
      "[CV] n_estimators=600, max_features=auto, max_depth=50, bootstrap=True \n",
      "[CV]  n_estimators=600, max_features=auto, max_depth=50, bootstrap=True, total=   2.0s\n",
      "[CV] n_estimators=1600, max_features=sqrt, max_depth=None, bootstrap=False \n",
      "[CV]  n_estimators=1600, max_features=sqrt, max_depth=None, bootstrap=False, total=   4.7s\n",
      "[CV] n_estimators=800, max_features=auto, max_depth=None, bootstrap=False \n",
      "[CV]  n_estimators=800, max_features=auto, max_depth=None, bootstrap=False, total=   2.3s\n",
      "[CV] n_estimators=800, max_features=sqrt, max_depth=10, bootstrap=False \n",
      "[CV]  n_estimators=800, max_features=sqrt, max_depth=10, bootstrap=False, total=   2.4s\n",
      "[CV] n_estimators=1800, max_features=sqrt, max_depth=40, bootstrap=True \n",
      "[CV]  n_estimators=1800, max_features=sqrt, max_depth=40, bootstrap=True, total=   6.5s\n",
      "[CV] n_estimators=1000, max_features=sqrt, max_depth=None, bootstrap=True \n",
      "[CV]  n_estimators=1000, max_features=sqrt, max_depth=None, bootstrap=True, total=   3.4s\n",
      "[CV] n_estimators=1000, max_features=auto, max_depth=40, bootstrap=False \n",
      "[CV]  n_estimators=1000, max_features=auto, max_depth=40, bootstrap=False, total=   3.2s\n",
      "[CV] n_estimators=600, max_features=auto, max_depth=50, bootstrap=False \n",
      "[CV]  n_estimators=600, max_features=auto, max_depth=50, bootstrap=False, total=   1.8s\n",
      "[CV] n_estimators=1800, max_features=auto, max_depth=40, bootstrap=True \n",
      "[CV]  n_estimators=1800, max_features=auto, max_depth=40, bootstrap=True, total=   6.1s\n",
      "[CV] n_estimators=1800, max_features=sqrt, max_depth=110, bootstrap=True \n",
      "[CV]  n_estimators=1800, max_features=sqrt, max_depth=110, bootstrap=True, total=   6.1s"
     ]
    },
    {
     "name": "stderr",
     "output_type": "stream",
     "text": [
      "[Parallel(n_jobs=-1)]: Done 300 out of 300 | elapsed:  4.2min finished\n"
     ]
    },
    {
     "data": {
      "text/plain": [
       "RandomizedSearchCV(cv=3, estimator=RandomForestClassifier(), n_iter=100,\n",
       "                   n_jobs=-1,\n",
       "                   param_distributions={'bootstrap': [True, False],\n",
       "                                        'max_depth': [10, 20, 30, 40, 50, 60,\n",
       "                                                      70, 80, 90, 100, 110,\n",
       "                                                      None],\n",
       "                                        'max_features': ['auto', 'sqrt'],\n",
       "                                        'n_estimators': [200, 400, 600, 800,\n",
       "                                                         1000, 1200, 1400, 1600,\n",
       "                                                         1800, 2000]},\n",
       "                   random_state=42, verbose=2)"
      ]
     },
     "execution_count": 15,
     "metadata": {},
     "output_type": "execute_result"
    }
   ],
   "source": [
    "rf_random = RandomizedSearchCV(estimator=rf, param_distributions=random_grid, n_iter=100, cv=3, verbose=2, random_state=42, n_jobs=-1)\n",
    "rf_random.fit(x_train, y_train)"
   ]
  },
  {
   "cell_type": "code",
   "execution_count": 16,
   "id": "361857da",
   "metadata": {
    "execution": {
     "iopub.execute_input": "2022-03-02T19:01:51.628274Z",
     "iopub.status.busy": "2022-03-02T19:01:51.627576Z",
     "iopub.status.idle": "2022-03-02T19:01:51.634433Z",
     "shell.execute_reply": "2022-03-02T19:01:51.635002Z",
     "shell.execute_reply.started": "2022-03-02T18:48:37.802193Z"
    },
    "papermill": {
     "duration": 0.043167,
     "end_time": "2022-03-02T19:01:51.635188",
     "exception": false,
     "start_time": "2022-03-02T19:01:51.592021",
     "status": "completed"
    },
    "tags": []
   },
   "outputs": [
    {
     "data": {
      "text/plain": [
       "{'n_estimators': 400,\n",
       " 'max_features': 'sqrt',\n",
       " 'max_depth': 10,\n",
       " 'bootstrap': True}"
      ]
     },
     "execution_count": 16,
     "metadata": {},
     "output_type": "execute_result"
    }
   ],
   "source": [
    "rf_random.best_params_"
   ]
  },
  {
   "cell_type": "code",
   "execution_count": 17,
   "id": "2fd79bec",
   "metadata": {
    "execution": {
     "iopub.execute_input": "2022-03-02T19:01:51.705053Z",
     "iopub.status.busy": "2022-03-02T19:01:51.704305Z",
     "iopub.status.idle": "2022-03-02T19:01:51.708248Z",
     "shell.execute_reply": "2022-03-02T19:01:51.708746Z",
     "shell.execute_reply.started": "2022-03-02T18:48:37.811597Z"
    },
    "papermill": {
     "duration": 0.040455,
     "end_time": "2022-03-02T19:01:51.708940",
     "exception": false,
     "start_time": "2022-03-02T19:01:51.668485",
     "status": "completed"
    },
    "tags": []
   },
   "outputs": [],
   "source": [
    "rf_cv = RandomForestClassifier(n_estimators=200, max_features='auto', max_depth=10, bootstrap=True)"
   ]
  },
  {
   "cell_type": "code",
   "execution_count": 18,
   "id": "c4fc4a7d",
   "metadata": {
    "execution": {
     "iopub.execute_input": "2022-03-02T19:01:51.778922Z",
     "iopub.status.busy": "2022-03-02T19:01:51.777980Z",
     "iopub.status.idle": "2022-03-02T19:01:53.089958Z",
     "shell.execute_reply": "2022-03-02T19:01:53.089378Z",
     "shell.execute_reply.started": "2022-03-02T18:48:37.823370Z"
    },
    "papermill": {
     "duration": 1.348527,
     "end_time": "2022-03-02T19:01:53.090124",
     "exception": false,
     "start_time": "2022-03-02T19:01:51.741597",
     "status": "completed"
    },
    "tags": []
   },
   "outputs": [
    {
     "name": "stdout",
     "output_type": "stream",
     "text": [
      "0.809203142536476\n"
     ]
    }
   ],
   "source": [
    "score_cv = cross_val_score(rf_cv,x_train,y_train,cv=3,scoring='accuracy')\n",
    "print(score_cv.mean())"
   ]
  },
  {
   "cell_type": "markdown",
   "id": "19b2c34e",
   "metadata": {
    "papermill": {
     "duration": 0.033142,
     "end_time": "2022-03-02T19:01:53.156505",
     "exception": false,
     "start_time": "2022-03-02T19:01:53.123363",
     "status": "completed"
    },
    "tags": []
   },
   "source": [
    "## Predicting the results"
   ]
  },
  {
   "cell_type": "code",
   "execution_count": 19,
   "id": "07cf40cd",
   "metadata": {
    "execution": {
     "iopub.execute_input": "2022-03-02T19:01:53.226530Z",
     "iopub.status.busy": "2022-03-02T19:01:53.225815Z",
     "iopub.status.idle": "2022-03-02T19:01:53.701221Z",
     "shell.execute_reply": "2022-03-02T19:01:53.701736Z",
     "shell.execute_reply.started": "2022-03-02T18:48:39.166221Z"
    },
    "papermill": {
     "duration": 0.512319,
     "end_time": "2022-03-02T19:01:53.701985",
     "exception": false,
     "start_time": "2022-03-02T19:01:53.189666",
     "status": "completed"
    },
    "tags": []
   },
   "outputs": [],
   "source": [
    "rf_cv.fit(x_train, y_train)\n",
    "pred = rf_cv.predict(test_df.iloc[:,1:])"
   ]
  },
  {
   "cell_type": "code",
   "execution_count": 20,
   "id": "18103ee8",
   "metadata": {
    "execution": {
     "iopub.execute_input": "2022-03-02T19:01:53.778039Z",
     "iopub.status.busy": "2022-03-02T19:01:53.777319Z",
     "iopub.status.idle": "2022-03-02T19:01:53.785142Z",
     "shell.execute_reply": "2022-03-02T19:01:53.785675Z",
     "shell.execute_reply.started": "2022-03-02T18:48:39.644028Z"
    },
    "papermill": {
     "duration": 0.048498,
     "end_time": "2022-03-02T19:01:53.785911",
     "exception": false,
     "start_time": "2022-03-02T19:01:53.737413",
     "status": "completed"
    },
    "tags": []
   },
   "outputs": [
    {
     "name": "stdout",
     "output_type": "stream",
     "text": [
      "Your submission was successfully saved!\n"
     ]
    }
   ],
   "source": [
    "output = pd.DataFrame({'PassengerId': test_df.PassengerId, 'Survived': pred})\n",
    "output.to_csv('submission.csv', index=False)\n",
    "print(\"Your submission was successfully saved!\")"
   ]
  }
 ],
 "metadata": {
  "kernelspec": {
   "display_name": "Python 3",
   "language": "python",
   "name": "python3"
  },
  "language_info": {
   "codemirror_mode": {
    "name": "ipython",
    "version": 3
   },
   "file_extension": ".py",
   "mimetype": "text/x-python",
   "name": "python",
   "nbconvert_exporter": "python",
   "pygments_lexer": "ipython3",
   "version": "3.7.12"
  },
  "papermill": {
   "default_parameters": {},
   "duration": 269.393217,
   "end_time": "2022-03-02T19:01:54.933361",
   "environment_variables": {},
   "exception": null,
   "input_path": "__notebook__.ipynb",
   "output_path": "__notebook__.ipynb",
   "parameters": {},
   "start_time": "2022-03-02T18:57:25.540144",
   "version": "2.3.3"
  }
 },
 "nbformat": 4,
 "nbformat_minor": 5
}
